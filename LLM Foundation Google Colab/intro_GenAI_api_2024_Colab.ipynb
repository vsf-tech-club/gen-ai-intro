{
  "cells": [
    {
      "cell_type": "markdown",
      "metadata": {
        "id": "VEqbX8OhE8y9",
        "tags": []
      },
      "source": [
        "# Getting Started with the Google API\n",
        "\n",
        "<table align=\"left\">\n",
        "  <td style=\"text-align: center\">\n",
        "    <a href=\"https://colab.research.google.com/github/GoogleCloudPlatform/generative-ai/blob/main/language/getting-started/intro_palm_api.ipynb\">\n",
        "      <img src=\"https://cloud.google.com/ml-engine/images/colab-logo-32px.png\" alt=\"Google Colaboratory logo\"><br> Run in Colab\n",
        "    </a>\n",
        "  </td>\n",
        "  <td style=\"text-align: center\">\n",
        "    <a href=\"https://github.com/GoogleCloudPlatform/generative-ai/blob/main/language/getting-started/intro_palm_api.ipynb\">\n",
        "      <img src=\"https://cloud.google.com/ml-engine/images/github-logo-32px.png\" alt=\"GitHub logo\"><br> View on GitHub\n",
        "    </a>\n",
        "  </td>\n",
        "  <td style=\"text-align: center\">\n",
        "    <a href=\"https://console.cloud.google.com/vertex-ai/workbench/deploy-notebook?download_url=https://raw.githubusercontent.com/GoogleCloudPlatform/generative-ai/blob/main/language/getting-started/intro_palm_api.ipynb\">\n",
        "      <img src=\"https://lh3.googleusercontent.com/UiNooY4LUgW_oTvpsNhPpQzsstV5W8F7rYgxgGBD85cWJoLmrOzhVs_ksK_vgx40SHs7jCqkTkCk=e14-rj-sc0xffffff-h130-w32\" alt=\"Vertex AI logo\"><br> Open in Vertex AI Workbench\n",
        "    </a>\n",
        "  </td>\n",
        "</table>\n"
      ]
    },
    {
      "cell_type": "markdown",
      "metadata": {
        "id": "VK1Q5ZYdVL4Y"
      },
      "source": [
        "## Overview\n",
        "\n",
        "### What are LLMs?\n",
        "Large language models (LLMs) are deep learning models trained on massive datasets of text. LLMs can translate language, summarize text, generate creative writing, generate code, power chatbots and virtual assistants, and complement search engines and recommendation systems.\n",
        "\n",
        "\n",
        "For more information, check out the [documentation on generative AI support for Vertex AI](https://cloud.google.com/vertex-ai/docs/generative-ai/learn/overview)."
      ]
    },
    {
      "cell_type": "markdown",
      "metadata": {
        "id": "RQT500QqVPIb"
      },
      "source": [
        "### Objectives\n",
        "\n",
        "In this tutorial, you’ll learn to use the PaLM API through Google Studio to explore and fine-tune Gemini models for text generation and embedding tasks.\n",
        "\n",
        "By the end of the notebook, you’ll understand the impact of key parameters—like temperature, top_k, and top_p—and how to adjust them to tailor the AI’s responses to suit your needs.\n",
        "\n",
        "The steps covered include:\n",
        "\n",
        "\t•\tAccessing the PaLM API in Google Studio\n",
        "\t•\tWorking with Gemini models:\n",
        "\t•\tText generation with gemini-1.5-xxx (exploring parameters like temperature, max_output_token, top_k, and top_p)\n",
        "\t•\tEmbeddings models for tasks like semantic similarity and search\n",
        "\n",
        "This tutorial will equip you with practical skills to control and customize responses from Google’s Gemini models, enabling you to build applications with nuanced, adaptive AI outputs.\n",
        "  "
      ]
    },
    {
      "cell_type": "markdown",
      "metadata": {
        "id": "fc389a25bf64"
      },
      "source": [
        "### Responsible AI\n",
        "Large language models (LLMs) can translate language, summarize text, generate creative writing, generate code, power chatbots and virtual assistants, and complement search engines and recommendation systems. At the same time, as an early-stage technology, its evolving capabilities and uses create potential for misapplication, misuse, and unintended or unforeseen consequences. Large language models can generate output that you don't expect, including text that's offensive, insensitive, or factually incorrect.\n",
        "\n",
        "What's more, the incredible versatility of LLMs is also what makes it difficult to predict exactly what kinds of unintended or unforeseen outputs they might produce. Given these risks and complexities, the PaLM API is designed with [Google's AI Principles](https://ai.google/principles/) in mind. However, it is important for developers to understand and test their models to deploy safely and responsibly. To aid developers, the Generative AI Studio has built-in content filtering, and the PaLM API has safety attribute scoring to help customers test Google's safety filters and define confidence thresholds that are right for their use case and business. Please refer to the [Safety filters and attributes](https://cloud.google.com/vertex-ai/docs/generative-ai/learn/responsible-ai#safety_filters_and_attributes) section to learn more.\n",
        "\n",
        "When the PaLM API is integrated into a customer's unique use case and context, additional responsible AI considerations and [PaLM limitations](https://cloud.google.com/vertex-ai/docs/generative-ai/learn/responsible-ai#palm_limitations) may need to be considered. We encourage customers to leverage fairness, interpretability, privacy and security [recommended practices](https://ai.google/responsibilities/responsible-ai-practices/)."
      ]
    },
    {
      "cell_type": "markdown",
      "metadata": {
        "id": "QDU0XJ1xRDlL"
      },
      "source": [
        "## Getting Started"
      ]
    },
    {
      "cell_type": "markdown",
      "metadata": {
        "id": "Fsk7Jo1VEkNn"
      },
      "source": []
    },
    {
      "cell_type": "markdown",
      "metadata": {
        "id": "N5afkyDMSBW5"
      },
      "source": [
        "### Install Vertex AI SDK"
      ]
    },
    {
      "cell_type": "code",
      "execution_count": null,
      "metadata": {
        "collapsed": true,
        "id": "kc4WxYmLSBW5",
        "jupyter": {
          "outputs_hidden": true
        },
        "tags": []
      },
      "outputs": [],
      "source": [
        "# !pip install google-cloud-aiplatform"
      ]
    },
    {
      "cell_type": "markdown",
      "metadata": {
        "id": "j7UyNVSiyQ96"
      },
      "source": [
        "**Colab only:** Uncomment the following cell to restart the kernel or use the button to restart the kernel. For Vertex AI Workbench you can restart the terminal using the button on top."
      ]
    },
    {
      "cell_type": "code",
      "execution_count": 1,
      "metadata": {
        "id": "YmY9HVVGSBW5",
        "tags": [],
        "colab": {
          "base_uri": "https://localhost:8080/"
        },
        "outputId": "6961aabe-4240-4d51-d55b-ecd450353226"
      },
      "outputs": [
        {
          "output_type": "execute_result",
          "data": {
            "text/plain": [
              "{'status': 'ok', 'restart': True}"
            ]
          },
          "metadata": {},
          "execution_count": 1
        }
      ],
      "source": [
        "# Automatically restart kernel after installs so that your environment can access the new packages\n",
        "import IPython\n",
        "\n",
        "app = IPython.Application.instance()\n",
        "app.kernel.do_shutdown(True)"
      ]
    },
    {
      "cell_type": "markdown",
      "metadata": {
        "id": "6Fom0ZkMSBW6"
      },
      "source": [
        "### Authenticating your notebook environment\n",
        "* If you are using **Colab** to run this notebook, uncomment the cell below and continue.\n",
        "* If you are using **Vertex AI Workbench**, check out the setup instructions [here](https://github.com/GoogleCloudPlatform/generative-ai/tree/main/setup-env)."
      ]
    },
    {
      "cell_type": "code",
      "execution_count": null,
      "metadata": {
        "collapsed": true,
        "jupyter": {
          "outputs_hidden": true
        },
        "tags": [],
        "id": "6kYFeeZoEkNo"
      },
      "outputs": [],
      "source": [
        "# !pip install google.colab"
      ]
    },
    {
      "cell_type": "code",
      "execution_count": null,
      "metadata": {
        "id": "LCaCx6PLSBW6",
        "tags": []
      },
      "outputs": [],
      "source": [
        "# from google.colab import auth\n",
        "# auth.authenticate_user()"
      ]
    },
    {
      "cell_type": "markdown",
      "metadata": {
        "id": "GckO4EysV5BT"
      },
      "source": [
        "Google API"
      ]
    },
    {
      "cell_type": "markdown",
      "metadata": {
        "id": "BDYqwDmTLgEy"
      },
      "source": [
        "I'll help you rewrite this for Google AI Studio API, taking into account the models shown in your screenshots. Here's the updated version:\n",
        "\n",
        "### Model Overview\n",
        "Google AI Studio allows you to access and work with Google's advanced language models through their API. There are currently three main model families:\n",
        "\n",
        "### Gemini Models\n",
        "The Gemini family represents Google's most advanced multimodal models:\n",
        "- **Gemini 1.5 Pro**: Latest version of the Pro model\n",
        "  - `gemini-1.5-pro`\n",
        "  - `gemini-1.5-pro-002` (NEW)\n",
        "  - Experimental version: `gemini-1.5-pro-exp-0827`\n",
        "\n",
        "- **Gemini 1.5 Flash**: Optimized for faster response times\n",
        "  - `gemini-1.5-flash`\n",
        "  - `gemini-1.5-flash-002` (NEW)\n",
        "  - `gemini-1.5-flash-8b` (NEW)\n",
        "  - Experimental versions:\n",
        "    - `gemini-1.5-flash-exp-0827`\n",
        "    - `gemini-1.5-flash-8b-exp-0924`\n",
        "\n",
        "- **Legacy Models**:\n",
        "  - `gemini-1.0-pro`\n",
        "\n",
        "### Gemma Models\n",
        "Gemma represents a family of lightweight, open models:\n",
        "- `gemma-2-2b-it` (PREVIEW)\n",
        "- `gemma-2-9b-it` (PREVIEW)\n",
        "- `gemma-2-27b-it` (PREVIEW)\n",
        "\n",
        "### Model Selection Guide\n",
        "- **Gemini 1.5 Pro**: Best for complex tasks requiring deep understanding and reasoning\n",
        "- **Gemini 1.5 Flash**: Optimized for faster responses while maintaining good quality\n",
        "- **Gemini 1.5 Flash-8B**: Lightweight version for simpler tasks\n",
        "- **Gemma Models**: Open models suitable for local deployment and customization\n",
        "\n",
        "### Model Naming Convention\n",
        "Models follow the format:\n",
        "`<model family>-<version>-<variant>[-<size>][-<additional tags>]`\n",
        "\n",
        "For example:\n",
        "- `gemini-1.5-pro-002`: Gemini family, version 1.5, Pro variant, version 002\n",
        "- `gemma-2-9b-it`: Gemma family, version 2, 9B parameter size, instruction-tuned\n",
        "\n",
        "Note: Models marked as \"NEW\" are recent releases, while \"PREVIEW\" indicates models that are still in testing phase.\n",
        "\n",
        "You can find more information about the properties of these [foundational models in the Generative AI Studio documentation](https://cloud.google.com/vertex-ai/docs/generative-ai/learn/models#foundation_models).\n"
      ]
    },
    {
      "cell_type": "markdown",
      "metadata": {
        "id": "BuQwwRiniVFG"
      },
      "source": [
        "### Import libraries"
      ]
    },
    {
      "cell_type": "markdown",
      "metadata": {
        "id": "Vnq2kIV8yQ97"
      },
      "source": [
        "**Colab only:** Uncomment the following cell to initialize the Vertex AI SDK. For Vertex AI Workbench, you don't need to run this.  "
      ]
    },
    {
      "cell_type": "code",
      "execution_count": null,
      "metadata": {
        "id": "rtMowvm-yQ97",
        "tags": [],
        "outputId": "397b3d09-341b-4e97-b090-6cc30fb8b2fd"
      },
      "outputs": [
        {
          "name": "stderr",
          "output_type": "stream",
          "text": [
            "2023-12-05 16:04:23.911996: I tensorflow/core/platform/cpu_feature_guard.cc:193] This TensorFlow binary is optimized with oneAPI Deep Neural Network Library (oneDNN) to use the following CPU instructions in performance-critical operations:  AVX2 FMA\n",
            "To enable them in other operations, rebuild TensorFlow with the appropriate compiler flags.\n",
            "2023-12-05 16:04:30.851819: W tensorflow/compiler/xla/stream_executor/platform/default/dso_loader.cc:64] Could not load dynamic library 'libnvinfer.so.7'; dlerror: libnvinfer.so.7: cannot open shared object file: No such file or directory; LD_LIBRARY_PATH: /usr/local/cuda/lib64:/usr/local/nccl2/lib:/usr/local/cuda/extras/CUPTI/lib64\n",
            "2023-12-05 16:04:30.853067: W tensorflow/compiler/xla/stream_executor/platform/default/dso_loader.cc:64] Could not load dynamic library 'libnvinfer_plugin.so.7'; dlerror: libnvinfer_plugin.so.7: cannot open shared object file: No such file or directory; LD_LIBRARY_PATH: /usr/local/cuda/lib64:/usr/local/nccl2/lib:/usr/local/cuda/extras/CUPTI/lib64\n",
            "2023-12-05 16:04:30.853086: W tensorflow/compiler/tf2tensorrt/utils/py_utils.cc:38] TF-TRT Warning: Cannot dlopen some TensorRT libraries. If you would like to use Nvidia GPU with TensorRT, please make sure the missing libraries mentioned above are installed properly.\n"
          ]
        }
      ],
      "source": [
        "# import vertexai\n",
        "\n",
        "# PROJECT_ID = \"\"  # @param {type:\"string\"}\n",
        "# vertexai.init(project=PROJECT_ID, location=\"us-central1\")"
      ]
    },
    {
      "cell_type": "code",
      "execution_count": 1,
      "metadata": {
        "colab": {
          "base_uri": "https://localhost:8080/"
        },
        "id": "TxfPbGXVEkNp",
        "outputId": "572ddfbd-499c-42f7-9c16-481d81372433"
      },
      "outputs": [
        {
          "output_type": "stream",
          "name": "stdout",
          "text": [
            "Requirement already satisfied: pandas in /usr/local/lib/python3.10/dist-packages (2.2.2)\n",
            "Requirement already satisfied: seaborn in /usr/local/lib/python3.10/dist-packages (0.13.2)\n",
            "Requirement already satisfied: numpy>=1.22.4 in /usr/local/lib/python3.10/dist-packages (from pandas) (1.26.4)\n",
            "Requirement already satisfied: python-dateutil>=2.8.2 in /usr/local/lib/python3.10/dist-packages (from pandas) (2.8.2)\n",
            "Requirement already satisfied: pytz>=2020.1 in /usr/local/lib/python3.10/dist-packages (from pandas) (2024.2)\n",
            "Requirement already satisfied: tzdata>=2022.7 in /usr/local/lib/python3.10/dist-packages (from pandas) (2024.2)\n",
            "Requirement already satisfied: matplotlib!=3.6.1,>=3.4 in /usr/local/lib/python3.10/dist-packages (from seaborn) (3.8.0)\n",
            "Requirement already satisfied: contourpy>=1.0.1 in /usr/local/lib/python3.10/dist-packages (from matplotlib!=3.6.1,>=3.4->seaborn) (1.3.0)\n",
            "Requirement already satisfied: cycler>=0.10 in /usr/local/lib/python3.10/dist-packages (from matplotlib!=3.6.1,>=3.4->seaborn) (0.12.1)\n",
            "Requirement already satisfied: fonttools>=4.22.0 in /usr/local/lib/python3.10/dist-packages (from matplotlib!=3.6.1,>=3.4->seaborn) (4.54.1)\n",
            "Requirement already satisfied: kiwisolver>=1.0.1 in /usr/local/lib/python3.10/dist-packages (from matplotlib!=3.6.1,>=3.4->seaborn) (1.4.7)\n",
            "Requirement already satisfied: packaging>=20.0 in /usr/local/lib/python3.10/dist-packages (from matplotlib!=3.6.1,>=3.4->seaborn) (24.1)\n",
            "Requirement already satisfied: pillow>=6.2.0 in /usr/local/lib/python3.10/dist-packages (from matplotlib!=3.6.1,>=3.4->seaborn) (10.4.0)\n",
            "Requirement already satisfied: pyparsing>=2.3.1 in /usr/local/lib/python3.10/dist-packages (from matplotlib!=3.6.1,>=3.4->seaborn) (3.2.0)\n",
            "Requirement already satisfied: six>=1.5 in /usr/local/lib/python3.10/dist-packages (from python-dateutil>=2.8.2->pandas) (1.16.0)\n"
          ]
        }
      ],
      "source": [
        "!pip install pandas seaborn"
      ]
    },
    {
      "cell_type": "code",
      "execution_count": 2,
      "metadata": {
        "id": "4zjV4alsiVql",
        "tags": []
      },
      "outputs": [],
      "source": [
        "import pandas as pd\n",
        "import seaborn as sns\n",
        "from IPython.display import Markdown, display\n",
        "from sklearn.metrics.pairwise import cosine_similarity\n",
        "from vertexai.language_models import TextGenerationModel, \\\n",
        "                                     TextEmbeddingModel, \\\n",
        "                                     ChatModel, \\\n",
        "                                     InputOutputTextPair, \\\n",
        "                                     CodeGenerationModel, \\\n",
        "                                     CodeChatModel"
      ]
    },
    {
      "cell_type": "markdown",
      "metadata": {
        "id": "_mU6EZEhakVu"
      },
      "source": [
        "## Text generation with `Gemini Flash 1.5`\n",
        "\n",
        "The text generation model from  API that you will use in this notebook is `Gemini Flash 1.5`.\n",
        "It is fine-tuned to follow natural language instructions and is suitable for a variety of language tasks, such as:\n",
        "\n",
        "- Classification\n",
        "- Sentiment analysis\n",
        "- Entity extraction\n",
        "- Extractive question-answering\n",
        "- Summarization\n",
        "- Re-writing text in a different style\n",
        "- Ad copy generation\n",
        "- Concept ideation\n",
        "- Concept simplification"
      ]
    },
    {
      "cell_type": "markdown",
      "metadata": {
        "id": "4437b7608c8e"
      },
      "source": [
        "#### Load model"
      ]
    },
    {
      "cell_type": "code",
      "source": [
        "from google.colab import userdata\n",
        "import google.generativeai as genai\n",
        "\n",
        "GOOGLE_API_KEY = userdata.get('GEMINI_API_KEY')\n",
        "genai.configure(api_key=GOOGLE_API_KEY)"
      ],
      "metadata": {
        "id": "IvUnRsiVF4zK"
      },
      "execution_count": 3,
      "outputs": []
    },
    {
      "cell_type": "code",
      "execution_count": 4,
      "metadata": {
        "id": "2998506fe6d1",
        "tags": []
      },
      "outputs": [],
      "source": [
        "import pandas as pd\n",
        "from vertexai.language_models import TextGenerationModel\n",
        "import google.generativeai as genai\n",
        "import os\n",
        "\n",
        "generation_config = {\n",
        "    \"temperature\": 0.2,\n",
        "    \"max_output_tokens\": 1024,\n",
        "    \"top_k\": 40,\n",
        "    \"top_p\": 0.8\n",
        "}\n",
        "\n",
        "model = genai.GenerativeModel(\n",
        "  model_name=\"gemini-1.5-flash\",\n",
        "  generation_config=generation_config,\n",
        ")"
      ]
    },
    {
      "cell_type": "markdown",
      "metadata": {
        "id": "7a5d006f3813"
      },
      "source": [
        "#### Prompt design\n",
        "Prompt design is the process of creating prompts that elicit the desired response from a language model. Prompt design is an important part of using language models because it allows non-specialists to control the output of the model with minimal overhead. By carefully crafting the prompts, you can nudge the model to generate a desired result. Prompt design can be an efficient way to experiment with adapting an LLM for a specific use case. The iterative process of repeatedly updating prompts and assessing the model’s responses is sometimes called prompt engineering."
      ]
    },
    {
      "cell_type": "markdown",
      "metadata": {
        "id": "kEAJ0ipmbndQ"
      },
      "source": [
        "#### Hello Gemini"
      ]
    },
    {
      "cell_type": "markdown",
      "metadata": {
        "id": "tCgBDJvNRCF5"
      },
      "source": [
        "Create your first prompt and send it to the text generation model."
      ]
    },
    {
      "cell_type": "code",
      "execution_count": 5,
      "metadata": {
        "id": "cx_o455SRCF5",
        "tags": [],
        "colab": {
          "base_uri": "https://localhost:8080/",
          "height": 731
        },
        "outputId": "c88abc26-d9c6-4ffe-f31a-498bf5b20ceb"
      },
      "outputs": [
        {
          "output_type": "stream",
          "name": "stdout",
          "text": [
            "A large language model (LLM) is a type of artificial intelligence (AI) that excels at understanding and generating human-like text. It's essentially a sophisticated statistical model trained on massive amounts of text data, allowing it to learn patterns, relationships, and nuances of language.\n",
            "\n",
            "Here's a breakdown of key aspects:\n",
            "\n",
            "**What it does:**\n",
            "\n",
            "* **Generates text:** LLMs can write stories, poems, articles, code, and even translate languages.\n",
            "* **Summarizes text:** They can condense large amounts of information into concise summaries.\n",
            "* **Answers questions:** LLMs can provide informative answers based on their training data.\n",
            "* **Predicts text:** They can predict the next word in a sentence or the next sentence in a paragraph.\n",
            "* **Identifies patterns:** LLMs can analyze text to find trends, themes, and relationships.\n",
            "\n",
            "**How it works:**\n",
            "\n",
            "* **Training:** LLMs are trained on massive datasets of text, like books, articles, code, and websites. This training process involves feeding the model text and adjusting its parameters to minimize errors in predicting the next word or character.\n",
            "* **Neural networks:** LLMs are built using deep neural networks, which are complex structures inspired by the human brain. These networks have multiple layers that process information and learn from data.\n",
            "* **Transformers:** Many LLMs use a specific type of neural network architecture called a transformer. Transformers are particularly good at understanding the relationships between words in a sentence, even if they are far apart.\n",
            "\n",
            "**Examples:**\n",
            "\n",
            "* **GPT-3 (Generative Pre-trained Transformer 3):** Developed by OpenAI, GPT-3 is a powerful LLM known for its ability to generate creative and coherent text.\n",
            "* **LaMDA (Language Model for Dialogue Applications):** Developed by Google, LaMDA is designed for conversational AI and can engage in natural-sounding dialogue.\n",
            "* **BERT (Bidirectional Encoder Representations from Transformers):** Developed by Google, BERT is known for its ability to understand the context of words in a sentence.\n",
            "\n",
            "**Applications:**\n",
            "\n",
            "* **Chatbots and virtual assistants:** LLMs power conversational AI systems that can understand and respond to user queries.\n",
            "* **Content creation:** LLMs can assist in writing articles, generating marketing copy, and creating social media posts.\n",
            "* **Translation:** LLMs can translate text between languages with high accuracy.\n",
            "* **Code generation:** LLMs can generate code in various programming languages.\n",
            "* **Research and analysis:** LLMs can analyze large datasets of text to identify trends and insights.\n",
            "\n",
            "**Limitations:**\n",
            "\n",
            "* **Bias:** LLMs can reflect biases present in their training data, leading to potentially harmful or unfair outputs.\n",
            "* **Lack of common sense:** LLMs may struggle with tasks that require common sense or real-world knowledge.\n",
            "* **Ethical concerns:** There are concerns about the potential misuse of LLMs, such as generating fake news or manipulating public opinion.\n",
            "\n",
            "Overall, LLMs are a rapidly evolving technology with the potential to revolutionize many industries. However, it's important to be aware of their limitations and use them responsibly.\n",
            "\n"
          ]
        }
      ],
      "source": [
        "prompt = \"What is a large language model?\"\n",
        "\n",
        "response = model.generate_content(prompt)\n",
        "print(response.text)"
      ]
    },
    {
      "cell_type": "markdown",
      "metadata": {
        "id": "Us8idXnVyQ97"
      },
      "source": [
        "#### Try out your own prompt"
      ]
    },
    {
      "cell_type": "markdown",
      "metadata": {
        "id": "_8YW1hBNyQ97"
      },
      "source": [
        "- What are the biggest challenges facing the healthcare industry?\n",
        "- What are the latest developments in the automotive industry?\n",
        "- What are the biggest opportunities in the retail industry?\n",
        "- (Try your own prompts!)"
      ]
    },
    {
      "cell_type": "code",
      "execution_count": 6,
      "metadata": {
        "id": "MmAZQW1GyQ97",
        "tags": [],
        "colab": {
          "base_uri": "https://localhost:8080/",
          "height": 243
        },
        "outputId": "409bb6d6-041f-4a4e-c60a-0ce13489d3a5"
      },
      "outputs": [
        {
          "output_type": "stream",
          "name": "stdout",
          "text": [
            "Here are 10 tech trends in under 5 words:\n",
            "\n",
            "1.  AI-powered everything\n",
            "2.  The metaverse is coming\n",
            "3.  Quantum computing advances\n",
            "4.  Edge computing takes off\n",
            "5.  Sustainable tech solutions\n",
            "6.  Hyper-personalization reigns\n",
            "7.  Data privacy concerns grow\n",
            "8.  Web3 adoption accelerates\n",
            "9.  Cybersecurity threats evolve\n",
            "10.  The future of work shifts \n",
            "\n"
          ]
        }
      ],
      "source": [
        "prompt = \"\"\"Create a numbered list of 10 items. Each item in the list should be a trend in the tech industry.\n",
        "\n",
        "Each trend should be less than 5 words.\"\"\" # try your own prompt\n",
        "\n",
        "response = model.generate_content(prompt)\n",
        "print(response.text)"
      ]
    },
    {
      "cell_type": "markdown",
      "metadata": {
        "id": "EsglQtgDRCF5"
      },
      "source": [
        "#### Prompt templates"
      ]
    },
    {
      "cell_type": "markdown",
      "metadata": {
        "id": "9BP1BKWiRCF6"
      },
      "source": [
        "Prompt templates are useful if you have found a good way to structure your prompt that you can re-use. This can be also be helpful in limiting the open-endedness of freeform prompts. There are many ways to implement prompt templates, and below is just one example using f-strings."
      ]
    },
    {
      "cell_type": "code",
      "execution_count": 7,
      "metadata": {
        "id": "2USfPyOuFhlB",
        "tags": [],
        "colab": {
          "base_uri": "https://localhost:8080/",
          "height": 243
        },
        "outputId": "cb8f5a6b-0882-49b8-9e19-464e28bc8737"
      },
      "outputs": [
        {
          "output_type": "stream",
          "name": "stdout",
          "text": [
            "Here are 10 tech trends in under 5 words:\n",
            "\n",
            "1. AI-powered everything\n",
            "2. Metaverse adoption grows\n",
            "3. Web3 takes center stage\n",
            "4. Quantum computing advances\n",
            "5. Cybersecurity threats escalate\n",
            "6. Edge computing expands\n",
            "7. 5G networks accelerate\n",
            "8. Sustainability in tech\n",
            "9. Data privacy concerns rise\n",
            "10. Automation reshapes jobs \n",
            "\n"
          ]
        }
      ],
      "source": [
        "my_industry = \"tech\" # try changing this to a different industry\n",
        "\n",
        "prompt = f\"\"\"Create a numbered list of 10 items. Each item in the list should\n",
        "be a trend in the {my_industry} industry.\n",
        "\n",
        "Each trend should be less than 5 words.\"\"\"\n",
        "\n",
        "response = model.generate_content(prompt)\n",
        "print(response.text)"
      ]
    },
    {
      "cell_type": "markdown",
      "metadata": {
        "id": "m65AyLt8yvdB"
      },
      "source": [
        "### Model parameters for `Gemini Flash 1.5`"
      ]
    },
    {
      "cell_type": "markdown",
      "metadata": {
        "id": "vQuZh6GT0Yn4"
      },
      "source": [
        "You can customize how the model behaves in response to your prompt by using the following parameters for `Gemini Flash`:\n",
        "\n",
        " - `temperature`: higher means more \"creative\" responses\n",
        " - `max_output_tokens`: sets the max number of tokens in the output\n",
        " - `top_p`: higher means it will pull from more possible next tokens, based on cumulative probability\n",
        " - `top_k`: higher means it will sample from more possible next tokens\n",
        "\n",
        "The section below covers each parameter and how to use them."
      ]
    },
    {
      "cell_type": "markdown",
      "metadata": {
        "id": "JF76AKzaF2IP"
      },
      "source": [
        "#### The `temperature` parameter (range: 0.0 - 1.0, default 0)\n",
        "\n",
        "##### What is _temperature_?\n",
        "The temperature is used for sampling during the response generation, which occurs when top_p and top_k are applied. Temperature controls the degree of randomness in token selection.\n",
        "\n",
        "##### How does _temperature_ affect the response?\n",
        "Lower temperatures are good for prompts that require a more deterministic and less open-ended response. In comparison, higher temperatures can lead to more \"creative\" or diverse results. A temperature of `0` is deterministic: the highest probability response is always selected. For most use cases, try starting with a temperature of `0.2`.\n",
        "\n",
        "A higher temperature value will result in a more exploratative output, with a higher likelihood of generating rare or unusual words or phrases. Conversely, a lower temperature value will result in a more conservative output, with a higher likelihood of generating common or expected words or phrases.\n",
        "\n",
        "##### Example:\n",
        "\n",
        "For example,\n",
        "\n",
        "`temperature = 0.0`:\n",
        "\n",
        "* _The cat sat on the couch, watching the birds outside._\n",
        "* _The cat sat on the windowsill, basking in the sun._\n",
        "\n",
        "`temperature = 0.9`:\n",
        "\n",
        "* _The cat sat on the moon, meowing at the stars._\n",
        "* _The cat sat on the cheeseburger, purring with delight._\n",
        "\n",
        "**Note**: It's important to note that while the temperature parameter can help generate more diverse and interesting text, it can also increase the likelihood of generating nonsensical or inappropriate text (i.e. hallucinations). Therefore, it's important to use it carefully and with consideration for the desired outcome.\n",
        "\n",
        "For more information on the `temperature` parameter for text models, please refer to the [documentation on model parameters](https://cloud.google.com/vertex-ai/docs/generative-ai/learn/models#text_model_parameters)."
      ]
    },
    {
      "cell_type": "markdown",
      "metadata": {
        "id": "aMEz2P18SBW-"
      },
      "source": [
        "If you run the following cell multiple times, it should always return the same response, as `temperature=0` is deterministic."
      ]
    },
    {
      "cell_type": "code",
      "execution_count": null,
      "metadata": {
        "id": "eoLEanwLEkNr",
        "outputId": "9cbdec7c-aac7-422e-ee50-da4e165cdf7a"
      },
      "outputs": [
        {
          "name": "stdout",
          "output_type": "stream",
          "text": [
            "[Temperature = 0.2]\n",
            "When I opened my toolkit, I was surprised to find **a perfectly preserved, antique compass nestled amongst the wrenches and screwdrivers.** \n",
            "\n",
            "\n",
            "--------------------------------------------------\n",
            "\n",
            "[Temperature = 0.5]\n",
            "When I opened my toolkit, I was surprised to find **a perfectly preserved, antique screwdriver with a gleaming, mahogany handle.** \n",
            "\n",
            "\n",
            "--------------------------------------------------\n",
            "\n",
            "[Temperature = 1.0]\n",
            "... a miniature tea set nestled amongst the wrenches and screwdrivers. \n",
            "\n",
            "\n",
            "--------------------------------------------------\n",
            "\n",
            "[Temperature = 1.5]\n",
            "When I opened my toolkit, I was surprised to find **a perfectly preserved, hand-drawn map of the neighborhood from my childhood, tucked inside the wrench compartment.** \n",
            "\n",
            "\n",
            "--------------------------------------------------\n",
            "\n"
          ]
        }
      ],
      "source": [
        "# Define temperature values for comparison\n",
        "temperature_values = [0.2, 0.5, 1.0, 1.5]\n",
        "\n",
        "# Base configuration for generation, with placeholders for temperature\n",
        "generation_config = {\n",
        "    \"max_output_tokens\": 1024,\n",
        "    \"top_k\": 40,\n",
        "    \"top_p\": 0.8\n",
        "}\n",
        "\n",
        "# Define a prompt for the model\n",
        "prompt = \"Complete the sentence: When I opened my toolkit, I was surprised to find:\"\n",
        "\n",
        "# Loop through each temperature and generate a response\n",
        "for temp_val in temperature_values:\n",
        "    # Update the configuration with the current temperature\n",
        "    generation_config[\"temperature\"] = temp_val\n",
        "\n",
        "    # Generate response using the model\n",
        "    response = model.generate_content(prompt, generation_config=generation_config)\n",
        "\n",
        "    # Print the temperature setting and corresponding response\n",
        "    print(f\"[Temperature = {temp_val}]\")\n",
        "    print(response.text)\n",
        "    print(\"\\n\" + \"-\"*50 + \"\\n\")"
      ]
    },
    {
      "cell_type": "markdown",
      "metadata": {
        "id": "JRYTOKQpGpfP"
      },
      "source": [
        "#### The `max_output_tokens` parameter (range: 1 - 1024, default 128)\n",
        "\n",
        "##### Tokens\n",
        "A single token may be smaller than a word. For example, a token is approximately four characters. So 100 tokens correspond to roughly 60-80 words. It's essential to be aware of the token sizes as models have a limit on input and output tokens.\n",
        "\n",
        "##### What is _max_output_tokens_?\n",
        "`max_output_tokens` is the maximum number of tokens that can be generated in the response.\n",
        "\n",
        "##### How does _max_output_tokens_ affect the response?\n",
        "\n",
        "Specify a lower value for shorter responses and a higher value for longer responses. A token may be smaller than a word. A token is approximately four characters. 100 tokens correspond to roughly 60-80 words.\n",
        "\n",
        "For more information on the `max_output_tokens` parameter for text models, please refer to the [documentation on model parameters](https://cloud.google.com/vertex-ai/docs/generative-ai/learn/models#text_model_parameters)."
      ]
    },
    {
      "cell_type": "code",
      "execution_count": null,
      "metadata": {
        "id": "ZUjANX_mNLuI",
        "tags": [],
        "outputId": "7470f510-5900-462f-9178-def2395576cd"
      },
      "outputs": [
        {
          "name": "stdout",
          "output_type": "stream",
          "text": [
            "[max_output_tokens = 5]\n",
            "## Ten Ways Generative\n"
          ]
        }
      ],
      "source": [
        "max_output_tokens_val = 5\n",
        "\n",
        "config = GenerationConfig(\n",
        "    max_output_tokens=max_output_tokens_val\n",
        ")\n",
        "\n",
        "response = model.generate_content(\n",
        "    \"List ten ways that generative AI can help improve the online shopping experience for users\",\n",
        "    generation_config=config\n",
        ")\n",
        "\n",
        "print(f\"[max_output_tokens = {max_output_tokens_val}]\")\n",
        "print(response.text)"
      ]
    },
    {
      "cell_type": "code",
      "execution_count": null,
      "metadata": {
        "id": "9DiHeUgSNX1m",
        "tags": [],
        "outputId": "e9315cb8-1be3-4522-d10b-01033ebfc61c"
      },
      "outputs": [
        {
          "name": "stdout",
          "output_type": "stream",
          "text": [
            "[max_output_tokens = 500]\n",
            "## Ten Ways Generative AI Can Enhance Online Shopping:\n",
            "\n",
            "1. **Personalized Product Recommendations:** AI can analyze user data (past purchases, browsing history, reviews) to suggest highly relevant products, increasing conversion rates and customer satisfaction.\n",
            "2. **Dynamically Generated Product Descriptions:** AI can create engaging and informative product descriptions, tailored to specific audiences and search terms, improving discoverability and engagement.\n",
            "3. **Interactive Virtual Try-Ons:** AI-powered virtual try-on tools allow customers to visualize products on themselves, reducing purchase anxiety and increasing confidence in online purchases.\n",
            "4. **Personalized Shopping Assistants:** AI chatbots can provide instant customer support, answer questions, and guide shoppers through the purchase process, enhancing the overall shopping experience.\n",
            "5. **Content Creation for Marketing Campaigns:** AI can generate compelling marketing copy, social media posts, and email campaigns, tailored to specific product features and target audiences.\n",
            "6. **Automated Customer Service:** AI can handle routine customer inquiries and complaints, freeing up human agents for more complex issues and improving response times.\n",
            "7. **Real-Time Price Optimization:** AI can analyze market trends and competitor pricing to dynamically adjust prices, maximizing revenue and ensuring competitive pricing.\n",
            "8. **Personalized Search Results:** AI can understand user intent and provide more relevant search results, improving the efficiency and effectiveness of online shopping.\n",
            "9. **Visual Search:** AI-powered visual search allows customers to find products by uploading images, expanding search options and making online shopping more intuitive.\n",
            "10. **Predictive Analytics for Inventory Management:** AI can analyze sales data and predict future demand, enabling retailers to optimize inventory levels and reduce stockouts or overstocking. \n",
            "\n"
          ]
        }
      ],
      "source": [
        "max_output_tokens_val = 500\n",
        "\n",
        "config = GenerationConfig(\n",
        "    max_output_tokens=max_output_tokens_val\n",
        ")\n",
        "\n",
        "response = model.generate_content(\n",
        "    \"List ten ways that generative AI can help improve the online shopping experience for users\",\n",
        "    generation_config=config\n",
        ")\n",
        "\n",
        "print(f\"[max_output_tokens = {max_output_tokens_val}]\")\n",
        "print(response.text)"
      ]
    },
    {
      "cell_type": "markdown",
      "metadata": {
        "id": "ZRVHZ546yQ98"
      },
      "source": [
        "For easier reading, you can also render Markdown in Jupyter:"
      ]
    },
    {
      "cell_type": "code",
      "execution_count": null,
      "metadata": {
        "id": "6MxmNsp-yQ98",
        "tags": [],
        "outputId": "c014d770-d8d7-416c-8851-42a5a6a347b0"
      },
      "outputs": [
        {
          "data": {
            "text/markdown": [
              "## Ten Ways Generative AI Can Enhance Online Shopping:\n",
              "\n",
              "1. **Personalized Product Recommendations:** AI can analyze user data (past purchases, browsing history, reviews) to suggest highly relevant products, increasing conversion rates and customer satisfaction.\n",
              "2. **Dynamically Generated Product Descriptions:** AI can create engaging and informative product descriptions, tailored to specific audiences and search terms, improving discoverability and engagement.\n",
              "3. **Interactive Virtual Try-Ons:** AI-powered virtual try-on tools allow customers to visualize products on themselves, reducing purchase anxiety and increasing confidence in online purchases.\n",
              "4. **Personalized Shopping Assistants:** AI chatbots can provide instant customer support, answer questions, and guide shoppers through the purchase process, enhancing the overall shopping experience.\n",
              "5. **Content Creation for Marketing Campaigns:** AI can generate compelling marketing copy, social media posts, and email campaigns, tailored to specific product features and target audiences.\n",
              "6. **Automated Customer Service:** AI can handle routine customer inquiries and complaints, freeing up human agents for more complex issues and improving response times.\n",
              "7. **Real-Time Price Optimization:** AI can analyze market trends and competitor pricing to dynamically adjust prices, maximizing revenue and ensuring competitive pricing.\n",
              "8. **Personalized Search Results:** AI can understand user intent and provide more relevant search results, improving the efficiency and effectiveness of online shopping.\n",
              "9. **Visual Search:** AI-powered visual search allows customers to find products by uploading images, expanding search options and making online shopping more intuitive.\n",
              "10. **Predictive Analytics for Inventory Management:** AI can analyze sales data and predict future demand, enabling retailers to optimize inventory levels and reduce stockouts or overstocking. \n"
            ],
            "text/plain": [
              "<IPython.core.display.Markdown object>"
            ]
          },
          "metadata": {},
          "output_type": "display_data"
        }
      ],
      "source": [
        "display(Markdown(response.text))"
      ]
    },
    {
      "cell_type": "markdown",
      "metadata": {
        "id": "kD3S2XsnHL50"
      },
      "source": [
        "#### The `top_p` parameter (range: 0.0 - 1.0, default 0.95)\n",
        "\n",
        "##### What is _top_p_?\n",
        "`top_p` controls how the model selects tokens for output by adjusting the probability distribution of the next word in the generated text based on a cumulative probability cutoff. Specifically, it selects the smallest set of tokens whose cumulative probability exceeds the given cutoff probability _p_, and samples from this set uniformly.\n",
        "\n",
        "\n",
        "For example, suppose tokens A, B, and C have a probability of 0.3, 0.2, and 0.1, and the `top_p` value is 0.5. In that case, the model will select either A or B as the next token (using temperature) and not consider C, because the cumulative probability of top_p is <= 0.5. Specify a lower value for less random responses and a higher value for more random responses.\n",
        "\n",
        "##### How does _top_p_ affect the response?\n",
        "\n",
        "The `top_p` parameter is used to control the diversity of the generated text. A higher `top_p` parameter value results in more \"diverse\" and \"interesting\" outputs, with the model being allowed to sample from a larger pool of possibilities. In contrast, a lower `top_p` parameter value resulted in more predictable outputs, with the model being constrained to a smaller set of possible tokens.\n",
        "\n",
        "\n",
        "##### Example:\n",
        "\n",
        "`top_p = 0.1`:\n",
        "\n",
        "- The cat sat on the mat.\n",
        "- The cat sat on the floor.\n",
        "\n",
        "`top_p = 0.9`:\n",
        "\n",
        "- The cat sat on the windowsill, soaking up the sun's rays.\n",
        "- The cat sat on the edge of the bed, watching the birds outside.\n",
        "\n",
        "For more information on the `top_p` parameter for text models, please refer to the [documentation on model parameters](https://cloud.google.com/vertex-ai/docs/generative-ai/learn/models#text_model_parameters)."
      ]
    },
    {
      "cell_type": "code",
      "execution_count": null,
      "metadata": {
        "id": "RAJiVYprNle1",
        "tags": [],
        "outputId": "1e7bd4c6-d680-4e5f-bd63-1505d2999292"
      },
      "outputs": [
        {
          "name": "stdout",
          "output_type": "stream",
          "text": [
            "[top_p = 0.0]\n",
            "##  \"Jacket Up with the Blue Elephant & Avocado Squad\"\n",
            "\n",
            "**Campaign Concept:**  This campaign uses the unexpected pairing of blue elephants and avocados to create a playful, memorable, and shareable campaign for jackets. It targets a young, trendy audience who appreciates humor and unique visuals.\n",
            "\n",
            "**Campaign Elements:**\n",
            "\n",
            "**1. Visual Identity:**\n",
            "\n",
            "* **Logo:** A cartoon blue elephant wearing a stylish jacket, holding a half-avocado.\n",
            "* **Color Palette:**  Vibrant blues, greens, and yellows, reflecting the blue elephant and avocado theme.\n",
            "* **Imagery:**  Photos and illustrations featuring blue elephants wearing jackets in various settings, often with avocados incorporated. Think: elephants wearing jackets while enjoying avocado toast, riding bikes with avocado-shaped baskets, or posing with avocado-themed accessories.\n",
            "\n",
            "**2. Social Media:**\n",
            "\n",
            "* **Hashtag:** #BlueElephantAvocadoSquad\n",
            "* **Instagram:**  Create a dedicated Instagram account showcasing the campaign visuals, behind-the-scenes content, and user-generated content.\n",
            "* **TikTok:**  Develop short, engaging videos featuring the blue elephant and avocado theme, showcasing the jackets' features and encouraging user participation through challenges and dances.\n",
            "* **Facebook & Twitter:**  Share eye-catching visuals, run contests, and engage with followers.\n",
            "\n",
            "**3. Content:**\n",
            "\n",
            "* **Website:**  Create a dedicated landing page with information about the jackets, the campaign, and a shoppable gallery.\n",
            "* **Blog Posts:**  Share fun facts about blue elephants and avocados, style tips for wearing the jackets, and stories about the inspiration behind the campaign.\n",
            "* **Influencer Marketing:**  Partner with relevant influencers to promote the jackets and the campaign.\n",
            "\n",
            "**4. Promotions:**\n",
            "\n",
            "* **Discounts:** Offer exclusive discounts for followers who use the #BlueElephantAvocadoSquad hashtag.\n",
            "* **Contests:**  Run contests on social media where users can win jackets or other prizes by sharing their own blue elephant and avocado-themed photos.\n",
            "* **Collaborations:**  Partner with avocado-themed brands or businesses for cross-promotional opportunities.\n",
            "\n",
            "**5.  Campaign Message:**\n",
            "\n",
            "* **\"Stay warm and stylish with the Blue Elephant & Avocado Squad.\"**\n",
            "* **\"Express your unique style with our limited-edition jackets.\"**\n",
            "* **\"Join the fun and share your #BlueElephantAvocadoSquad moments.\"**\n",
            "\n",
            "**Overall Tone:**  Playful, humorous, and engaging. The campaign should be lighthearted and fun, reflecting the unexpected pairing of blue elephants and avocados.\n",
            "\n",
            "**Target Audience:**  Young adults, fashion-conscious individuals, and those who appreciate unique and quirky designs.\n",
            "\n",
            "**Expected Outcomes:**\n",
            "\n",
            "* Increased brand awareness and engagement.\n",
            "* Drive traffic to the website and social media channels.\n",
            "* Generate sales of the jackets.\n",
            "* Create a memorable and shareable campaign that resonates with the target audience.\n",
            "\n",
            "This campaign aims to create a fun and memorable experience for customers, while also effectively promoting the jackets. The unique and unexpected theme will help the campaign stand out from the competition and generate buzz online. \n",
            "\n"
          ]
        }
      ],
      "source": [
        "top_p_val = 0.0\n",
        "prompt_top_p_example = (\n",
        "    \"Create a marketing campaign for jackets that involves blue elephants and avocados.\"\n",
        ")\n",
        "\n",
        "config = GenerationConfig(\n",
        "    temperature=0.9,\n",
        "    top_p=top_p_val\n",
        ")\n",
        "\n",
        "response = model.generate_content(\n",
        "    prompt_top_p_example,\n",
        "    generation_config=config\n",
        ")\n",
        "\n",
        "print(f\"[top_p = {top_p_val}]\")\n",
        "print(response.text)"
      ]
    },
    {
      "cell_type": "code",
      "execution_count": null,
      "metadata": {
        "id": "zm69kbcyN2gg",
        "tags": [],
        "outputId": "db0c1dd6-a88a-46af-bc84-f7bd0b3bf951"
      },
      "outputs": [
        {
          "name": "stdout",
          "output_type": "stream",
          "text": [
            "[top_p = 1.0]\n",
            "##  \"Jacket Up Your Adventure\" - A Marketing Campaign Featuring Blue Elephants and Avocados\n",
            "\n",
            "**Campaign Concept:** Fun, quirky, and memorable, this campaign uses the unexpected pairing of blue elephants and avocados to highlight the versatility and comfort of the jackets. \n",
            "\n",
            "**Target Audience:** Millennials and Gen Z, who are interested in unique and playful brands with a focus on comfort and adventure.\n",
            "\n",
            "**Campaign Elements:**\n",
            "\n",
            "**1. The Ad:**\n",
            "\n",
            "* **Visual:** A vibrant, colorful illustration featuring a blue elephant wearing a jacket, holding a large avocado. The elephant is smiling and surrounded by lush greenery.\n",
            "* **Tagline:** \"Jacket Up Your Adventure. It's Time for a Slice of Comfort.\"\n",
            "* **Message:** Highlighting the versatility of the jackets for any activity, from exploring the great outdoors to lounging around at home. The ad emphasizes the comfort, quality, and unique style of the jackets.\n",
            "\n",
            "**2. Social Media:**\n",
            "\n",
            "* **Hashtag:** #JacketUpYourAdventure\n",
            "* **Content:**\n",
            "    * **User-generated content:** Encourage customers to share photos of themselves wearing the jackets in unique and fun ways, using the hashtag #JacketUpYourAdventure. Offer prizes for the most creative entries.\n",
            "    * **Behind-the-scenes:** Share the inspiration behind the blue elephant and avocado concept, showcasing the design process and highlighting the unique features of the jackets.\n",
            "    * **Video content:** Short, engaging videos featuring people wearing the jackets in various settings, showcasing their comfort and versatility.\n",
            "\n",
            "**3. Influencer Marketing:**\n",
            "\n",
            "* Partner with micro-influencers who align with the brand values and target audience.\n",
            "* Encourage them to share their experiences wearing the jackets in authentic and engaging ways.\n",
            "* Offer exclusive discounts and promotions to their followers.\n",
            "\n",
            "**4.  Pop-Up Events:**\n",
            "\n",
            "* Organize pop-up events in urban areas, featuring interactive installations and photo booths with the blue elephant and avocado theme.\n",
            "* Offer exclusive discounts and product demos at these events.\n",
            "\n",
            "**5.  Partnerships:**\n",
            "\n",
            "* Partner with complementary brands like outdoor gear companies, coffee shops, or avocado-themed businesses.\n",
            "* Offer co-branded merchandise or host joint events to reach a wider audience.\n",
            "\n",
            "**Campaign Tone and Style:**\n",
            "\n",
            "* Playful, quirky, and lighthearted.\n",
            "* Vibrant colors and bold visuals.\n",
            "* Emphasize comfort and versatility.\n",
            "* Promote a sense of adventure and fun.\n",
            "\n",
            "**Call to Action:**\n",
            "\n",
            "* Visit the brand website to explore the full collection and find the perfect jacket for your next adventure.\n",
            "* Use the hashtag #JacketUpYourAdventure to share your own adventures in style.\n",
            "\n",
            "**Overall, this campaign aims to create a memorable and engaging experience for the target audience, positioning the jackets as a must-have item for anyone who wants to embrace comfort and adventure in style.** \n",
            "\n"
          ]
        }
      ],
      "source": [
        "top_p_val = 1.0\n",
        "prompt_top_p_example = (\n",
        "    \"Create a marketing campaign for jackets that involves blue elephants and avocados.\"\n",
        ")\n",
        "\n",
        "config = GenerationConfig(\n",
        "    temperature=0.9,\n",
        "    top_p=top_p_val\n",
        ")\n",
        "\n",
        "response = model.generate_content(\n",
        "    prompt_top_p_example,\n",
        "    generation_config=config\n",
        ")\n",
        "\n",
        "print(f\"[top_p = {top_p_val}]\")\n",
        "print(response.text)"
      ]
    },
    {
      "cell_type": "markdown",
      "metadata": {
        "id": "Krop7HXOIy8f"
      },
      "source": [
        "#### The `top_k` parameter (range: 0.0 - 40, default 40)\n",
        "\n",
        "##### What is _top_k_?\n",
        "`top_k` changes how the model selects tokens for output. A `top_k` of 1 means the selected token is the most probable among all tokens in the model's vocabulary (also called greedy decoding). In contrast, a `top_k` of 3 means that the next token is selected from the top 3 most probable tokens (using temperature). For each token selection step, the `top_k` tokens with the highest probabilities are sampled. Then tokens are further filtered based on `top_p` with the final token selected using temperature sampling.\n",
        "\n",
        "##### How does _top_k_ affect the response?\n",
        "\n",
        "Specify a lower value for less random responses and a higher value for more random responses.\n",
        "\n",
        "For more information on the `top_k` parameter for text models, please refer to the [documentation on model parameters](https://cloud.google.com/vertex-ai/docs/generative-ai/learn/models#text_model_parameters)."
      ]
    },
    {
      "cell_type": "code",
      "execution_count": null,
      "metadata": {
        "id": "qK76o1hYO3ej",
        "tags": [],
        "outputId": "4b6f87aa-20b2-48b4-a8d5-7265fcd57ac7"
      },
      "outputs": [
        {
          "name": "stdout",
          "output_type": "stream",
          "text": [
            "[top_k = 1]\n",
            "## 2-Day Itinerary for France: Parisian Charm and Loire Valley Romance\n",
            "\n",
            "This itinerary combines the iconic city of Paris with the picturesque Loire Valley, offering a taste of both urban and rural France. \n",
            "\n",
            "**Day 1: Parisian Delights**\n",
            "\n",
            "* **Morning:** Arrive at Charles de Gaulle Airport (CDG) and take the RER B train directly to Gare du Nord. Check into your hotel in the Marais district, known for its charming cobblestone streets and historic architecture.\n",
            "* **Lunch:** Indulge in a classic French lunch at a bistro in the Marais, savoring delicious baguettes, cheese, and wine.\n",
            "* **Afternoon:** Explore the iconic sights of Paris:\n",
            "    * **Notre Dame Cathedral:** Witness the grandeur of this architectural masterpiece, even if under renovation.\n",
            "    * **Île de la Cité:** Stroll along the Seine River, passing by the Conciergerie and the Pont Neuf.\n",
            "    * **Musée du Louvre:** Immerse yourself in world-renowned art, including the Mona Lisa.\n",
            "* **Evening:** Enjoy a romantic dinner cruise along the Seine, taking in breathtaking views of the city lit up at night.\n",
            "\n",
            "**Day 2: Loire Valley Escape**\n",
            "\n",
            "* **Morning:** Take a high-speed train from Gare Montparnasse to Tours, the gateway to the Loire Valley.\n",
            "* **Lunch:** Discover the local cuisine in Tours, sampling traditional dishes like rillettes and goat cheese.\n",
            "* **Afternoon:**\n"
          ]
        }
      ],
      "source": [
        "prompt_top_k_example = \"Write a 2-day itinerary for France.\"\n",
        "top_k_val = 1\n",
        "\n",
        "config = GenerationConfig(\n",
        "    max_output_tokens=300,\n",
        "    temperature=0.9,\n",
        "    top_k=top_k_val\n",
        ")\n",
        "\n",
        "response = model.generate_content(\n",
        "    prompt_top_k_example,\n",
        "    generation_config=config\n",
        ")\n",
        "\n",
        "print(f\"[top_k = {top_k_val}]\")\n",
        "print(response.text)"
      ]
    },
    {
      "cell_type": "code",
      "execution_count": null,
      "metadata": {
        "id": "Hhu9d23vPGmK",
        "tags": [],
        "outputId": "155750fc-ddb3-455e-85cc-9bc95e02a8da"
      },
      "outputs": [
        {
          "name": "stdout",
          "output_type": "stream",
          "text": [
            "[top_k = 40]\n",
            "## 2-Day Itinerary for France: A Parisian Escape\n",
            "\n",
            "This itinerary focuses on experiencing the iconic sights and flavors of Paris, offering a taste of the City of Lights. \n",
            "\n",
            "**Day 1: Classic Paris**\n",
            "\n",
            "**Morning:**\n",
            "\n",
            "* **9:00 AM:** Start your day with a **croissant and café au lait** at a charming local bakery.\n",
            "* **10:00 AM:** Explore the **Eiffel Tower**. Take the stairs or elevator to the top for panoramic views of Paris.\n",
            "* **12:00 PM:** Lunch at a **traditional bistro** near the Eiffel Tower. Enjoy a classic French dish like steak frites or quiche.\n",
            "\n",
            "**Afternoon:**\n",
            "\n",
            "* **1:30 PM:** Wander through the **Tuileries Garden**, a beautiful park located between the Louvre and the Place de la Concorde.\n",
            "* **3:00 PM:** Immerse yourself in art at the **Louvre Museum**. See masterpieces like the Mona Lisa and Venus de Milo.\n",
            "* **5:00 PM:** Enjoy a **romantic stroll along the Seine River**, passing by Notre Dame Cathedral and the Shakespeare & Company bookstore.\n",
            "\n",
            "**Evening:**\n",
            "\n",
            "* **7:00 PM:** Indulge in a delicious **dinner at a restaurant in the Latin Quarter**. Try traditional French cuisine or explore international options.\n",
            "* **9:00 PM:** Catch a **cabaret show at the Moulin Rouge** for a taste\n"
          ]
        }
      ],
      "source": [
        "top_k_val = 40\n",
        "\n",
        "config = GenerationConfig(\n",
        "    max_output_tokens=300,\n",
        "    temperature=0.9,\n",
        "    top_k=top_k_val\n",
        ")\n",
        "\n",
        "response = model.generate_content(\n",
        "    prompt_top_k_example,\n",
        "    generation_config=config\n",
        ")\n",
        "\n",
        "print(f\"[top_k = {top_k_val}]\")\n",
        "print(response.text)"
      ]
    },
    {
      "cell_type": "markdown",
      "metadata": {
        "id": "14ada40abecc"
      },
      "source": [
        "## Chat model with `Gemini Flash`"
      ]
    },
    {
      "cell_type": "markdown",
      "metadata": {
        "id": "1923b5583a2d"
      },
      "source": [
        "The Gemini model lets you have a freeform conversation across multiple turns. The application tracks what was previously said in the conversation. As such, if you expect to use conversations in your application, use the Gemini model because it has been fine-tuned for multi-turn conversation use cases."
      ]
    },
    {
      "cell_type": "code",
      "execution_count": null,
      "metadata": {
        "id": "1325438b9188",
        "tags": [],
        "outputId": "db32dc4d-9b6b-4b2f-9aab-4a54060407e3"
      },
      "outputs": [
        {
          "name": "stdout",
          "output_type": "stream",
          "text": [
            "## The Algorithmic Ripple: Assessing the Societal Impact of Artificial Intelligence\n",
            "\n",
            "This research paper explores the multifaceted impact of artificial intelligence (AI) on contemporary society, examining both its transformative potential and the ethical complexities it presents. We argue that while AI offers unprecedented opportunities for progress in various sectors, its integration into our social fabric necessitates careful consideration and proactive mitigation of potential risks. \n",
            "\n",
            "The paper begins by outlining the diverse applications of AI across key sectors, including healthcare, education, finance, and entertainment. We highlight how AI-powered technologies drive efficiency, enhance decision-making, and personalize experiences. This section underscores the positive contributions of AI towards economic growth, scientific discovery, and improved quality of life.\n",
            "\n",
            "Subsequently, the paper delves into the potential downsides of widespread AI adoption. We analyze concerns surrounding job displacement due to automation, algorithmic bias perpetuating social inequalities, and the ethical implications of autonomous systems in areas like warfare and surveillance. This section critically assesses the challenges of ensuring equitable access to AI benefits and mitigating the risks of misuse.\n",
            "\n",
            "Finally, we propose a framework for responsible AI development and deployment.  This framework emphasizes the need for transparent and accountable algorithms, robust regulatory mechanisms, and ongoing societal dialogue to address ethical dilemmas. We argue that fostering public understanding of AI's capabilities and limitations is crucial for harnessing its potential while safeguarding against unforeseen consequences. \n",
            "\n",
            "This paper aims to contribute to the ongoing discourse surrounding AI by providing a nuanced perspective on its societal impact. We believe that a balanced approach, combining technological advancement with ethical considerations and inclusive decision-making, is essential for realizing the full benefits of AI for the betterment of humanity. \n",
            "\n"
          ]
        }
      ],
      "source": [
        "model = genai.GenerativeModel('gemini-1.5-pro')\n",
        "chat = model.start_chat()\n",
        "\n",
        "print(\n",
        "    chat.send_message(\n",
        "        \"\"\"\n",
        "Hello! Can you write a 300 word abstract for a research paper I need to write about the impact of AI on society?\n",
        "\"\"\"\n",
        "    ).text\n",
        ")"
      ]
    },
    {
      "cell_type": "markdown",
      "metadata": {
        "id": "ef81f564bed1"
      },
      "source": [
        "As shown below, the model should respond based on what was previously said in the conversation:"
      ]
    },
    {
      "cell_type": "code",
      "execution_count": null,
      "metadata": {
        "id": "30ab5afac7dc",
        "tags": [],
        "outputId": "c613dde1-3faf-4404-baf1-7148464d07dc"
      },
      "outputs": [
        {
          "name": "stdout",
          "output_type": "stream",
          "text": [
            "Okay, here are some more catchy title options, aiming for a balance between intrigue and academic appropriateness:\n",
            "\n",
            "**Intriguing & Balanced:**\n",
            "\n",
            "* The AI Tapestry: Weaving Technology, Society, and the Future\n",
            "* AI: Reshaping the Social Landscape - Opportunities and Challenges\n",
            "* The Algorithmic Age: Dawn of a New Era or Double-Edged Sword?\n",
            "* Beyond the Code: Exploring the Societal Impact of Artificial Intelligence\n",
            "* AI and Us: Charting a Course for a Shared Future\n",
            "\n",
            "**Short & Catchy:**\n",
            "\n",
            "* AI & Society: A Transformative Interplay\n",
            "* The Algorithm Effect: Shaping Our World\n",
            "*  Living in the Loop: AI's Societal Impact\n",
            "* Decoding the Future: AI's Influence\n",
            "\n",
            "Remember, the best title will grab attention while still accurately reflecting your paper's content and tone. Good luck with your writing! \n",
            "\n"
          ]
        }
      ],
      "source": [
        "print(\n",
        "    chat.send_message(\n",
        "        \"\"\"\n",
        "Could you give me a catchy title for the paper?\n",
        "\"\"\"\n",
        "    ).text\n",
        ")"
      ]
    },
    {
      "cell_type": "markdown",
      "metadata": {
        "id": "fe15a6b083e5"
      },
      "source": [
        "### Advanced Chat model\n",
        "You can also provide a `context` and `examples` to the model. The model will then respond based on the provided context and examples. You can also use `temperature`, `max_output_tokens`, `top_p`, and `top_k`. These parameters should be used when you start your chat with `chat_model.start_chat()`.\n",
        "\n",
        "For more information on chat models, please refer to the [documentation on chat model parameters](https://cloud.google.com/vertex-ai/docs/generative-ai/learn/models#chat_model_parameters)."
      ]
    },
    {
      "cell_type": "code",
      "execution_count": null,
      "metadata": {
        "id": "4047b525961e",
        "tags": [],
        "outputId": "7e2ef5b1-eed2-4d0e-abf2-14bc1ae8b73f"
      },
      "outputs": [
        {
          "name": "stdout",
          "output_type": "stream",
          "text": [
            "Response: Absolutely, Ned! Both \"The Lord of the Rings\" and \"The Hobbit\" are based on books written by J.R.R. Tolkien. \n",
            "\n",
            "* **The Hobbit**, was originally published in 1937 and serves as a prequel to the events of The Lord of the Rings. \n",
            "* **The Lord of the Rings** is a much larger story told in three volumes: \n",
            "    * The Fellowship of the Ring \n",
            "    * The Two Towers\n",
            "    * The Return of the King\n",
            "\n",
            "Have you read any of the books, Ned? \n",
            "\n"
          ]
        }
      ],
      "source": [
        "\n",
        "# Define the system prompt\n",
        "SYSTEM_PROMPT = \"\"\"My name is Ned. You are my personal assistant. My favorite movies are Lord of the Rings and Hobbit.\"\"\"\n",
        "\n",
        "# Define generation configuration\n",
        "generation_config = {\n",
        "    \"temperature\": 0.3,\n",
        "    \"max_output_tokens\": 200,\n",
        "    \"top_p\": 0.8,\n",
        "    \"top_k\": 40,\n",
        "    \"response_mime_type\": \"text/plain\",\n",
        "}\n",
        "\n",
        "# Initialize the model with configuration\n",
        "model = genai.GenerativeModel(\n",
        "    model_name=\"gemini-1.5-pro\",\n",
        "    generation_config=generation_config,\n",
        ")\n",
        "\n",
        "# Start the chat\n",
        "chat = model.start_chat()\n",
        "\n",
        "try:\n",
        "    # Send the system prompt as the initial message\n",
        "    chat.send_message(SYSTEM_PROMPT)\n",
        "\n",
        "    # Now interact with the model\n",
        "    response = chat.send_message(\"Are my favorite movies based on a book series?\")\n",
        "    print(\"Response:\", response.text)\n",
        "\n",
        "except Exception as e:\n",
        "    print(f\"An error occurred: {str(e)}\")"
      ]
    },
    {
      "cell_type": "code",
      "execution_count": null,
      "metadata": {
        "id": "685184ee4159",
        "tags": [],
        "outputId": "3b4fecd1-ca72-4f8a-d81c-8cd55663cc2d"
      },
      "outputs": [
        {
          "name": "stdout",
          "output_type": "stream",
          "text": [
            "MultiCandidateTextGenerationResponse(text='The Lord of the Rings was published between 1954 and 1955 and The Hobbit was published in 1937.', _prediction_response=Prediction(predictions=[{'citationMetadata': [{'citations': []}], 'groundingMetadata': [{}], 'safetyAttributes': [{'categories': ['Derogatory', 'Insult', 'Religion & Belief', 'Sexual'], 'safetyRatings': [{'severity': 'NEGLIGIBLE', 'probabilityScore': 0.1, 'category': 'Dangerous Content', 'severityScore': 0.0}, {'category': 'Harassment', 'severity': 'NEGLIGIBLE', 'probabilityScore': 0.1, 'severityScore': 0.0}, {'severity': 'NEGLIGIBLE', 'probabilityScore': 0.1, 'category': 'Hate Speech', 'severityScore': 0.0}, {'severity': 'NEGLIGIBLE', 'category': 'Sexually Explicit', 'probabilityScore': 0.2, 'severityScore': 0.1}], 'scores': [0.1, 0.1, 0.2, 0.2], 'blocked': False}], 'candidates': [{'content': 'The Lord of the Rings was published between 1954 and 1955 and The Hobbit was published in 1937.', 'author': 'bot'}]}], deployed_model_id='', model_version_id='', model_resource_name='', explanations=None), is_blocked=False, safety_attributes={'Derogatory': 0.1, 'Insult': 0.1, 'Religion & Belief': 0.2, 'Sexual': 0.2}, grounding_metadata=GroundingMetadata(citations=[], search_queries=[]), candidates=[The Lord of the Rings was published between 1954 and 1955 and The Hobbit was published in 1937.])\n"
          ]
        }
      ],
      "source": [
        "print(chat.send_message(\"When where these books published?\"))"
      ]
    },
    {
      "cell_type": "markdown",
      "metadata": {
        "id": "67b6eef99f56"
      },
      "source": [
        "## Embedding model with `textembedding-gecko@001`"
      ]
    },
    {
      "cell_type": "markdown",
      "metadata": {
        "id": "64a58515878c"
      },
      "source": [
        "Text embeddings are a dense, often low-dimensional, vector representation of a piece of content such that, if two pieces of content are semantically similar, their respective embeddings are located near each other in the embedding vector space. This representation can be used to solve common NLP tasks, such as:\n",
        "\n",
        "* **Semantic search**: Search text ranked by semantic similarity.\n",
        "* **Recommendation**: Return items with text attributes similar to the given text.\n",
        "* **Classification**: Return the class of items whose text attributes are similar to the given text.\n",
        "* **Clustering**: Cluster items whose text attributes are similar to the given text.\n",
        "* **Outlier Detection**: Return items where text attributes are least related to the given text.\n",
        "\n",
        "Please refer to the [text embedding model documentation](https://cloud.google.com/vertex-ai/docs/generative-ai/embeddings/get-text-embeddings) for more information."
      ]
    },
    {
      "cell_type": "code",
      "execution_count": null,
      "metadata": {
        "id": "w17LaIyZEkNt"
      },
      "outputs": [],
      "source": [
        "pip install google-cloud-aiplatform"
      ]
    },
    {
      "cell_type": "code",
      "execution_count": null,
      "metadata": {
        "id": "9YL2wu5vEkNt",
        "outputId": "4db16019-01d3-49c5-9475-35baaab15d10"
      },
      "outputs": [
        {
          "name": "stdout",
          "output_type": "stream",
          "text": [
            "[-0.02116971, 0.011214978, 0.0129822735, 0.02188006, -0.07693626, 0.05197107, 0.026219783, 0.023838336, 0.005950072, -0.0011797665, 0.05390354, -0.030034704, 0.061299734, -0.030560972, 0.06503526, -0.08971511, -0.00028305806, 0.032586414, -0.015729574, -0.041473713, -0.0039104824, 0.027960235, 0.037700716, 0.0024882355, 0.00017098196, 0.034836944, 0.0038803064, -0.013994337, 0.036806293, -0.0005700361, 0.044176478, 0.024296235, -0.005055659, -0.0036776427, 0.031575322, 0.01584044, -0.020334257, 0.0059896223, -0.0010593885, -0.045378808, -0.07692216, 0.023679245, -0.020702017, 0.03993838, -0.044764623, -0.028422123, -0.03026199, -0.049383637, -0.041188583, 0.076424345, -0.015524128, -0.0016810203, -0.054304212, 0.039576266, 0.01718883, -0.0213998, -0.017376665, -0.029809238, 0.051091626, -0.08992476, -0.01026959, -0.027102415, 0.007372722, -0.022045923, -0.028409876, 0.032712005, -0.05342709, 0.019037476, -0.04978271, 0.009294256, -0.024420159, 0.061376918, -0.05490074, 0.08749596, -0.0072849663, 0.042039316, 0.04871786, 0.010638945, -0.018611224, 0.05125885, -0.02895854, -0.031955753, 0.05554853, 0.042375974, 0.017039984, 0.023414366, -0.063692406, -0.011355722, -0.057390373, -0.029493842, 0.03632702, 0.028479371, -0.032247327, -0.034068774, 0.072837874, 0.008586215, -0.04662052, -0.06128372, 0.0313098, 0.01767243, 0.0249231, 0.004038589, 0.015966175, -0.0039231614, 0.059229847, 0.08985916, -0.009021041, -0.013667395, -0.034860637, -0.02234254, 0.0380993, -0.03639966, 0.0036226164, -0.032030534, -0.004868108, -0.011656636, -0.0046725553, 0.017825527, -0.0057139667, -0.013921174, 0.03726474, 0.07930578, -0.015567521, 0.029772079, 0.052039605, -0.027016701, -0.0063566114, -0.06187052, -0.005124207, -0.046287894, 0.060084037, -0.10020923, -0.051079113, 0.011616832, -0.01987116, 0.05682622, 0.06848778, -0.016197626, 0.006037112, -0.025792072, -0.019898692, 0.008024646, -0.009391216, -0.0021979737, 0.018263448, -0.04698219, 0.030774899, 0.0030970094, -0.02649595, -0.018318538, -0.042302422, -0.04800429, 0.06808097, 0.039177928, -0.025845757, 0.01406981, 0.037271496, 0.005034398, 0.07275478, -0.008656562, 0.00039066208, -0.05262106, -0.06600787, 0.019694367, -0.04992012, -0.023330655, 0.022766666, -0.08995966, -0.022256924, 0.015877327, -0.0019624196, 0.021837601, -0.050942317, 0.04733659, -0.0028631494, 0.021134285, -0.01115684, -0.013965837, 0.026293468, 0.019200064, 0.027440593, 0.02889376, -0.042066913, -0.028979285, -0.005258112, -0.05511166, -0.02391453, 0.04537776, 0.03775347, 0.037693124, -0.054958526, 0.041978907, -0.024997745, -0.030502174, -0.013634252, -0.011783298, 0.06779866, -0.053759094, -0.020663552, 0.040468227, -0.026099613, -0.06111179, -0.012688998, -0.008830728, -0.0003032912, 0.021865958, 0.028182866, -0.014237012, 0.01893136, 0.011225127, -0.06803637, -0.009385451, -0.008639083, -0.012789125, 0.038114104, 0.06615559, 0.0607394, -0.0062149116, 0.10852102, 0.002720836, -0.023140052, -0.027321642, -0.004529262, -0.035164285, 0.013850787, -0.044024445, 0.0048965304, -0.025215304, -0.05511345, -0.022695849, 0.027358033, 0.017866107, -0.009022999, -0.019762553, -0.017969988, -0.004835643, 0.0077018775, 0.054750107, -0.009359388, -0.010096087, 0.027844213, -0.029868402, -0.011905538, 0.012861269, 0.06606156, 0.06335896, 0.048273493, 0.01812385, -0.0028098107, -0.056581944, -0.0004632766, 0.000517986, -0.07291047, -0.010603544, -0.008829163, 0.009617243, 0.035131443, 0.016973656, 0.00894508, 0.0018984239, 0.044385467, -0.06900002, -0.03320606, 0.0051137963, -0.03649849, -0.060296502, -0.01917183, -0.04598467, 0.027250635, -0.026940625, 0.070646934, -0.028608844, -0.0024903528, -0.025391592, -0.013403931, 0.02416505, -0.010218674, 0.036762267, -0.031375796, -0.041973956, 0.066247605, -0.026812343, 0.0036369786, 0.011565014, 0.012387343, -0.025384227, 0.027456246, -0.023531822, 0.0041669696, -0.021248043, 0.025684863, 0.018036153, -0.026983406, -0.08431388, -0.021925533, -0.011693812, 0.06111706, 0.06201599, -0.0071826535, 0.02380048, 0.016007256, 0.022562977, -0.053983506, 0.033751246, -0.013597166, 0.009368023, 0.040809713, -0.007590929, -0.029233675, 0.013445913, 0.01907726, 0.00519443, -0.029404517, 0.07332352, -0.069894396, -0.025485782, -0.096937, -0.0021864448, 0.0088927755, 0.025337666, 0.0183389, 0.018344091, -0.014919271, -0.024478484, 0.08491704, -0.047013454, 0.011235638, 0.04546552, 0.0035415888, -0.01308081, 0.015575812, -0.03925407, -0.007742815, -0.0472357, 0.017975345, 0.006993461, -0.041087326, 0.06399707, 0.060589664, 0.03729934, -0.008379307, -0.0117884865, -0.009487255, -0.0120209055, 0.0139746545, -0.003644374, -0.01665276, -0.018383719, -0.0103277825, -0.08617718, 0.058961418, 0.05007326, 0.021095533, 0.0122677, 0.017037036, -0.01388764, 0.09077445, 0.017191354, 0.042194564, 0.009203987, -0.019685283, -0.0059751645, -0.026391663, 0.009872157, -0.028671691, -0.007462943, 0.05335386, 0.048322506, 0.037605356, -0.014303558, 0.024667472, -0.00083633995, -0.0030237772, 0.0063965525, -0.03113988, -0.020662958, -0.04232398, 0.012786899, 0.05402821, -0.07135072, -0.061669264, -0.05537297, -0.059825175, 0.021748532, -0.062159047, 0.03981544, -0.037372194, -0.01972447, -0.0064109215, 0.031240845, -0.029192232, 0.039017934, 0.026721362, 0.03511237, -0.024419546, 0.00563816, -0.019930433, 0.011247286, -0.011129137, 0.047729943, 0.0037535995, -0.053457245, 0.07712614, -0.055001516, -0.01721318, -0.0032434065, 0.09727487, 0.006840458, -0.008952728, -0.039659534, -0.008950976, -0.00048829324, 0.03321871, 0.018834587, 0.002977883, -0.025679898, -0.031639013, -0.0013105343, 0.02503337, 0.022782797, 0.03407451, -0.017663516, 0.01992357, 0.002928218, 0.0009816119, -0.02869124, 0.033435617, -0.009979775, 0.01977002, 0.0119068185, 0.031499777, -0.0034673624, -0.011268795, 0.010346779, 0.021581301, 0.06443027, -0.008024737, 0.023883559, -0.04759189, 0.004085759, 0.026096065, 0.009242459, -0.012147817, -0.009504984, 0.03834076, 0.00941551, 0.07115681, 0.006794077, -0.018815849, -0.02740095, 0.00067667576, 0.00471927, -0.03757823, -0.032642398, -0.015041263, -0.016999433, -0.04656064, 0.005867102, -0.012373589, 0.06842925, 0.037231766, -0.016001036, 0.07832223, 0.001749189, 0.006801476, -0.0030707652, -0.034388047, 0.019212134, -0.002427087, 0.042417683, 0.014607902, -0.0049974183, -0.00020380615, 0.008876623, -0.014612275, 0.012795686, 0.048909273, -0.039082594, -0.0036836439, -0.008745939, -0.0036241673, -0.0004060069, -0.027246704, 0.03285874, 0.03500437, 0.027637916, -0.009957698, -0.018059472, 0.04609115, -0.03450992, -0.02625791, 0.048304144, -0.03268924, -0.03319215, -0.0046117073, -0.037010696, 0.027076215, 0.008878441, 0.04367194, 0.029628234, 0.0536782, 0.046900716, -0.02935353, -0.0066672675, -0.023943596, 0.026063988, -0.073982395, -0.024735743, 0.069601946, 0.0014005586, 0.027277501, -0.012625222, 0.032564804, 0.01605682, -0.037464686, 0.035351645, -0.0025826034, 0.06119546, 0.0032190094, 0.11866944, 0.0011875164, -0.032022677, 0.013925708, 0.00010342321, -0.022059709, -0.012713877, 0.031392608, 0.0019559413, 0.05145206, -0.008361999, 0.018040683, 0.01747587, -0.0041457047, 0.021823546, 0.011909684, 0.086613275, 0.06277426, 0.030986495, 0.038957395, 0.009191286, 0.035562627, 0.013197323, 0.036754426, 0.0719323, 0.014796175, -0.02276326, -0.009041581, 0.06388689, -0.00012021688, 0.075954445, 0.0010985862, -0.05193934, 0.017529422, 0.034454904, 0.025255566, -0.058496244, 0.03768409, 0.05764779, -0.008019368, 0.034750376, 0.0009247038, 0.006543999, 0.0023739974, -0.005749819, -0.047500428, 0.015086534, -0.04520614, 0.040919125, 0.024573287, 0.030537361, -0.025720911, -0.042136308, -0.015444344, -0.04804154, 0.022679565, 0.028981173, -0.029937493, -0.00034784322, -0.0077758157, -0.04253727, 0.009004782, -0.027537424, 0.035824712, -0.0064483136, -0.01782128, -0.046753716, 0.058029648, 0.0046775304, -0.023505794, -0.0018623268, 0.002593612, 0.033587728, 0.0066016167, -0.051425155, 0.004024513, -0.014253024, -0.008807771, 0.0070708925, -0.002371988, -0.0030185615, 0.019782774, -0.01635759, 0.019197846, -0.000239019, -0.03869164, -0.043234907, -0.011570235, -0.013375775, -0.0034824163, -0.027459774, 0.020245988, 0.048321683, -0.048317943, 0.017048182, -0.10490629, 0.046231184, -0.004739916, -0.013244441, 0.058479387, -0.0437695, -0.029251108, -0.0052466267, 0.033250872, 0.039609175, -0.040737525, 0.011747187, -0.0073705628, -0.03486633, -0.018011376, 0.025810078, -0.0574886, 0.0024220264, 0.046053153, -0.0433287, 0.012127296, 0.0068278806, 0.026548855, 0.0040302793, 0.0455247, 0.00060588884, -0.028107012, 0.027004438, 0.06856741, 0.01111178, -0.06304481, 0.038215242, -0.052803475, 0.008740449, 0.056846764, 0.021639548, -0.044354856, -0.016039902, 0.020641595, 0.019374648, -0.012996462, 0.03800328, -0.059154343, -0.07049841, 0.010541552, -0.04594759, 0.04724526, -0.017075818, -0.008317712, -0.020669177, -0.04678763, -0.01587954, 0.02282935, 0.013505092, -0.021966508, -0.019417983, -0.026172468, 0.03230515, 0.024577515, 0.027988419, 0.010717458, -0.002372839, 0.03739904, 0.031360794, -0.004358319, -0.0061065834, 0.046808578, -0.048399188, 0.029622704, -0.043651346, -0.04859649, 0.06242113, 0.057194535, -0.0151215065, -0.03725551, 0.0028162224, -0.03623377, -0.028252425, 0.025359605, -0.016228765, 0.020917526, 0.08130118, -0.055324864, 0.034425724, -0.037036326, -0.011477345, 0.01728245, -0.045334306, -0.033962652, -0.00033895078, 0.019758373, -0.0061705667, 0.022690222, 0.0059704673, -0.06837218, 0.035466496, 0.0010031057, 0.037673384, 0.06833355, -0.0024414905, 0.00034191026, 0.043853913, -0.0058496064, 0.06733691, 0.048356872, -0.008277157, 0.033978853, -0.03845047, -0.0059401677, 0.037450846, -0.022492146, -0.015905686, -0.063691474, 0.007260338, -0.020437548, 0.04086024, 0.08573824, 0.013153853, -0.053404048, 0.055627104, -0.022506172, -0.004406042, 0.011409618, -0.0105706435, 0.018142393, 0.01613911, 0.052406367, -0.024749603, -0.027098492, -0.05069924, -0.01171308, 0.0045485706, -0.028607232, -0.03895386, -0.022283847, -0.02716747, -0.10775045, -0.03556411, -0.004800477, 0.10021378, 0.025970006, -0.0027826317, -0.0077046147, 0.019108022, 0.08265963, 0.029558843, -0.019394374, 0.042222243, -0.030366803, -0.018734593, -0.076560274, 0.0151132485, 0.041252565, -0.021849127]\n"
          ]
        }
      ],
      "source": [
        "# Generate embeddings\n",
        "result = genai.embed_content(\n",
        "    model=\"models/text-embedding-004\",\n",
        "    content=\"What is the meaning of life?\",\n",
        "    task_type=\"classification\"\n",
        ")\n",
        "\n",
        "# Output the embedding vector\n",
        "print(result[\"embedding\"])"
      ]
    },
    {
      "cell_type": "markdown",
      "metadata": {
        "id": "601bd7e7ef1d"
      },
      "source": [
        "#### Embeddings and Pandas DataFrames"
      ]
    },
    {
      "cell_type": "markdown",
      "metadata": {
        "id": "9e69d2ba877f"
      },
      "source": [
        "If your text is stored in a column of a DataFrame, you can create a new column with the embeddings with the example below."
      ]
    },
    {
      "cell_type": "code",
      "execution_count": null,
      "metadata": {
        "id": "d99f08bab254",
        "tags": [],
        "outputId": "264bd31e-7b1c-42cd-a97a-0fe9ac84cc5a"
      },
      "outputs": [
        {
          "data": {
            "text/html": [
              "<div>\n",
              "<style scoped>\n",
              "    .dataframe tbody tr th:only-of-type {\n",
              "        vertical-align: middle;\n",
              "    }\n",
              "\n",
              "    .dataframe tbody tr th {\n",
              "        vertical-align: top;\n",
              "    }\n",
              "\n",
              "    .dataframe thead th {\n",
              "        text-align: right;\n",
              "    }\n",
              "</style>\n",
              "<table border=\"1\" class=\"dataframe\">\n",
              "  <thead>\n",
              "    <tr style=\"text-align: right;\">\n",
              "      <th></th>\n",
              "      <th>text</th>\n",
              "    </tr>\n",
              "  </thead>\n",
              "  <tbody>\n",
              "    <tr>\n",
              "      <th>0</th>\n",
              "      <td>i really enjoyed the movie last night</td>\n",
              "    </tr>\n",
              "    <tr>\n",
              "      <th>1</th>\n",
              "      <td>so many amazing cinematic scenes yesterday</td>\n",
              "    </tr>\n",
              "    <tr>\n",
              "      <th>2</th>\n",
              "      <td>had a great time writing my Python scripts a f...</td>\n",
              "    </tr>\n",
              "    <tr>\n",
              "      <th>3</th>\n",
              "      <td>huge sense of relief when my .py script finall...</td>\n",
              "    </tr>\n",
              "    <tr>\n",
              "      <th>4</th>\n",
              "      <td>O Romeo, Romeo, wherefore art thou Romeo?</td>\n",
              "    </tr>\n",
              "  </tbody>\n",
              "</table>\n",
              "</div>"
            ],
            "text/plain": [
              "                                                text\n",
              "0              i really enjoyed the movie last night\n",
              "1         so many amazing cinematic scenes yesterday\n",
              "2  had a great time writing my Python scripts a f...\n",
              "3  huge sense of relief when my .py script finall...\n",
              "4          O Romeo, Romeo, wherefore art thou Romeo?"
            ]
          },
          "execution_count": 48,
          "metadata": {},
          "output_type": "execute_result"
        }
      ],
      "source": [
        "text = [\n",
        "    \"i really enjoyed the movie last night\",\n",
        "    \"so many amazing cinematic scenes yesterday\",\n",
        "    \"had a great time writing my Python scripts a few days ago\",\n",
        "    \"huge sense of relief when my .py script finally ran without error\",\n",
        "    \"O Romeo, Romeo, wherefore art thou Romeo?\",\n",
        "]\n",
        "\n",
        "df = pd.DataFrame(text, columns=[\"text\"])\n",
        "df"
      ]
    },
    {
      "cell_type": "markdown",
      "metadata": {
        "id": "fabd92d8ddb6"
      },
      "source": [
        "Create a new column, `embeddings`, using the [apply](https://pandas.pydata.org/docs/reference/api/pandas.DataFrame.apply.html) function in pandas with the embeddings model."
      ]
    },
    {
      "cell_type": "code",
      "execution_count": null,
      "metadata": {
        "tags": [],
        "id": "VjuY653oEkNu",
        "outputId": "2659e569-8cb2-4c7d-86c7-12cdc9e953fa"
      },
      "outputs": [
        {
          "data": {
            "text/html": [
              "<div>\n",
              "<style scoped>\n",
              "    .dataframe tbody tr th:only-of-type {\n",
              "        vertical-align: middle;\n",
              "    }\n",
              "\n",
              "    .dataframe tbody tr th {\n",
              "        vertical-align: top;\n",
              "    }\n",
              "\n",
              "    .dataframe thead th {\n",
              "        text-align: right;\n",
              "    }\n",
              "</style>\n",
              "<table border=\"1\" class=\"dataframe\">\n",
              "  <thead>\n",
              "    <tr style=\"text-align: right;\">\n",
              "      <th></th>\n",
              "      <th>text</th>\n",
              "    </tr>\n",
              "  </thead>\n",
              "  <tbody>\n",
              "    <tr>\n",
              "      <th>0</th>\n",
              "      <td>i really enjoyed the movie last night</td>\n",
              "    </tr>\n",
              "    <tr>\n",
              "      <th>1</th>\n",
              "      <td>so many amazing cinematic scenes yesterday</td>\n",
              "    </tr>\n",
              "    <tr>\n",
              "      <th>2</th>\n",
              "      <td>had a great time writing my Python scripts a f...</td>\n",
              "    </tr>\n",
              "    <tr>\n",
              "      <th>3</th>\n",
              "      <td>huge sense of relief when my .py script finall...</td>\n",
              "    </tr>\n",
              "    <tr>\n",
              "      <th>4</th>\n",
              "      <td>O Romeo, Romeo, wherefore art thou Romeo?</td>\n",
              "    </tr>\n",
              "  </tbody>\n",
              "</table>\n",
              "</div>"
            ],
            "text/plain": [
              "                                                text\n",
              "0              i really enjoyed the movie last night\n",
              "1         so many amazing cinematic scenes yesterday\n",
              "2  had a great time writing my Python scripts a f...\n",
              "3  huge sense of relief when my .py script finall...\n",
              "4          O Romeo, Romeo, wherefore art thou Romeo?"
            ]
          },
          "execution_count": 49,
          "metadata": {},
          "output_type": "execute_result"
        }
      ],
      "source": [
        "df"
      ]
    },
    {
      "cell_type": "code",
      "execution_count": null,
      "metadata": {
        "id": "MDoBcFPJEkNu",
        "outputId": "a1cfa3c7-399d-4e6a-81c2-b3920087b9d7"
      },
      "outputs": [
        {
          "data": {
            "text/html": [
              "<div>\n",
              "<style scoped>\n",
              "    .dataframe tbody tr th:only-of-type {\n",
              "        vertical-align: middle;\n",
              "    }\n",
              "\n",
              "    .dataframe tbody tr th {\n",
              "        vertical-align: top;\n",
              "    }\n",
              "\n",
              "    .dataframe thead th {\n",
              "        text-align: right;\n",
              "    }\n",
              "</style>\n",
              "<table border=\"1\" class=\"dataframe\">\n",
              "  <thead>\n",
              "    <tr style=\"text-align: right;\">\n",
              "      <th></th>\n",
              "      <th>text</th>\n",
              "      <th>embeddings</th>\n",
              "    </tr>\n",
              "  </thead>\n",
              "  <tbody>\n",
              "    <tr>\n",
              "      <th>0</th>\n",
              "      <td>i really enjoyed the movie last night</td>\n",
              "      <td>[-0.015529877, -0.02598488, 0.01173991, 0.0521...</td>\n",
              "    </tr>\n",
              "    <tr>\n",
              "      <th>1</th>\n",
              "      <td>so many amazing cinematic scenes yesterday</td>\n",
              "      <td>[-0.018682262, -0.049599454, -0.008872226, -0....</td>\n",
              "    </tr>\n",
              "    <tr>\n",
              "      <th>2</th>\n",
              "      <td>had a great time writing my Python scripts a f...</td>\n",
              "      <td>[-0.025916616, -0.04676864, -0.021152752, 0.02...</td>\n",
              "    </tr>\n",
              "    <tr>\n",
              "      <th>3</th>\n",
              "      <td>huge sense of relief when my .py script finall...</td>\n",
              "      <td>[0.058539435, -0.06945987, -0.017773626, 0.056...</td>\n",
              "    </tr>\n",
              "    <tr>\n",
              "      <th>4</th>\n",
              "      <td>O Romeo, Romeo, wherefore art thou Romeo?</td>\n",
              "      <td>[0.024527134, 0.016005777, 0.0090826, -0.00685...</td>\n",
              "    </tr>\n",
              "  </tbody>\n",
              "</table>\n",
              "</div>"
            ],
            "text/plain": [
              "                                                text  \\\n",
              "0              i really enjoyed the movie last night   \n",
              "1         so many amazing cinematic scenes yesterday   \n",
              "2  had a great time writing my Python scripts a f...   \n",
              "3  huge sense of relief when my .py script finall...   \n",
              "4          O Romeo, Romeo, wherefore art thou Romeo?   \n",
              "\n",
              "                                          embeddings  \n",
              "0  [-0.015529877, -0.02598488, 0.01173991, 0.0521...  \n",
              "1  [-0.018682262, -0.049599454, -0.008872226, -0....  \n",
              "2  [-0.025916616, -0.04676864, -0.021152752, 0.02...  \n",
              "3  [0.058539435, -0.06945987, -0.017773626, 0.056...  \n",
              "4  [0.024527134, 0.016005777, 0.0090826, -0.00685...  "
            ]
          },
          "execution_count": 53,
          "metadata": {},
          "output_type": "execute_result"
        }
      ],
      "source": [
        "# Define a function to get embeddings for a given text\n",
        "def get_embedding(text):\n",
        "    response = genai.embed_content(\n",
        "        model=\"models/text-embedding-004\",\n",
        "        content=text\n",
        "    )\n",
        "    return response[\"embedding\"]\n",
        "\n",
        "# Apply the function to each row in the DataFrame and store the embeddings\n",
        "df[\"embeddings\"] = df[\"text\"].apply(lambda x: get_embedding(x))\n",
        "\n",
        "# Display the DataFrame with embeddings\n",
        "df\n"
      ]
    },
    {
      "cell_type": "markdown",
      "metadata": {
        "id": "69ebe1a6514d"
      },
      "source": [
        "#### Comparing similarity of text examples using cosine similarity"
      ]
    },
    {
      "cell_type": "markdown",
      "metadata": {
        "id": "04d0f13acedb"
      },
      "source": [
        "By converting text into embeddings, you can compute similarity scores. There are many ways to compute similarity scores, and one common technique is using [cosine similarity](https://en.wikipedia.org/wiki/Cosine_similarity).\n",
        "\n",
        "In the example from above, two of the sentences in the `text` column relate to enjoying a _movie_, and the other two relates to enjoying _coding_. Cosine similarity scores should be higher (closer to 1.0) when doing pairwise comparisons between semantically-related sentences, and scores should be lower between semantically-different sentences.\n",
        "\n",
        "The DataFrame output below shows the resulting cosine similarity scores between the embeddings:"
      ]
    },
    {
      "cell_type": "code",
      "execution_count": null,
      "metadata": {
        "id": "dc499dae438a",
        "tags": [],
        "outputId": "a8a526af-7cb0-42c5-9fd3-4ba8ca48945c"
      },
      "outputs": [
        {
          "data": {
            "text/html": [
              "<div>\n",
              "<style scoped>\n",
              "    .dataframe tbody tr th:only-of-type {\n",
              "        vertical-align: middle;\n",
              "    }\n",
              "\n",
              "    .dataframe tbody tr th {\n",
              "        vertical-align: top;\n",
              "    }\n",
              "\n",
              "    .dataframe thead th {\n",
              "        text-align: right;\n",
              "    }\n",
              "</style>\n",
              "<table border=\"1\" class=\"dataframe\">\n",
              "  <thead>\n",
              "    <tr style=\"text-align: right;\">\n",
              "      <th></th>\n",
              "      <th>i really enjoyed the movie last night</th>\n",
              "      <th>so many amazing cinematic scenes yesterday</th>\n",
              "      <th>had a great time writing my Python scripts a few days ago</th>\n",
              "      <th>huge sense of relief when my .py script finally ran without error</th>\n",
              "      <th>O Romeo, Romeo, wherefore art thou Romeo?</th>\n",
              "    </tr>\n",
              "  </thead>\n",
              "  <tbody>\n",
              "    <tr>\n",
              "      <th>i really enjoyed the movie last night</th>\n",
              "      <td>1.000000</td>\n",
              "      <td>0.641829</td>\n",
              "      <td>0.541948</td>\n",
              "      <td>0.475592</td>\n",
              "      <td>0.273159</td>\n",
              "    </tr>\n",
              "    <tr>\n",
              "      <th>so many amazing cinematic scenes yesterday</th>\n",
              "      <td>0.641829</td>\n",
              "      <td>1.000000</td>\n",
              "      <td>0.513403</td>\n",
              "      <td>0.400385</td>\n",
              "      <td>0.311290</td>\n",
              "    </tr>\n",
              "    <tr>\n",
              "      <th>had a great time writing my Python scripts a few days ago</th>\n",
              "      <td>0.541948</td>\n",
              "      <td>0.513403</td>\n",
              "      <td>1.000000</td>\n",
              "      <td>0.774488</td>\n",
              "      <td>0.197557</td>\n",
              "    </tr>\n",
              "    <tr>\n",
              "      <th>huge sense of relief when my .py script finally ran without error</th>\n",
              "      <td>0.475592</td>\n",
              "      <td>0.400385</td>\n",
              "      <td>0.774488</td>\n",
              "      <td>1.000000</td>\n",
              "      <td>0.273684</td>\n",
              "    </tr>\n",
              "    <tr>\n",
              "      <th>O Romeo, Romeo, wherefore art thou Romeo?</th>\n",
              "      <td>0.273159</td>\n",
              "      <td>0.311290</td>\n",
              "      <td>0.197557</td>\n",
              "      <td>0.273684</td>\n",
              "      <td>1.000000</td>\n",
              "    </tr>\n",
              "  </tbody>\n",
              "</table>\n",
              "</div>"
            ],
            "text/plain": [
              "                                                    i really enjoyed the movie last night  \\\n",
              "i really enjoyed the movie last night                                            1.000000   \n",
              "so many amazing cinematic scenes yesterday                                       0.641829   \n",
              "had a great time writing my Python scripts a fe...                               0.541948   \n",
              "huge sense of relief when my .py script finally...                               0.475592   \n",
              "O Romeo, Romeo, wherefore art thou Romeo?                                        0.273159   \n",
              "\n",
              "                                                    so many amazing cinematic scenes yesterday  \\\n",
              "i really enjoyed the movie last night                                                 0.641829   \n",
              "so many amazing cinematic scenes yesterday                                            1.000000   \n",
              "had a great time writing my Python scripts a fe...                                    0.513403   \n",
              "huge sense of relief when my .py script finally...                                    0.400385   \n",
              "O Romeo, Romeo, wherefore art thou Romeo?                                             0.311290   \n",
              "\n",
              "                                                    had a great time writing my Python scripts a few days ago  \\\n",
              "i really enjoyed the movie last night                                                        0.541948           \n",
              "so many amazing cinematic scenes yesterday                                                   0.513403           \n",
              "had a great time writing my Python scripts a fe...                                           1.000000           \n",
              "huge sense of relief when my .py script finally...                                           0.774488           \n",
              "O Romeo, Romeo, wherefore art thou Romeo?                                                    0.197557           \n",
              "\n",
              "                                                    huge sense of relief when my .py script finally ran without error  \\\n",
              "i really enjoyed the movie last night                                                        0.475592                   \n",
              "so many amazing cinematic scenes yesterday                                                   0.400385                   \n",
              "had a great time writing my Python scripts a fe...                                           0.774488                   \n",
              "huge sense of relief when my .py script finally...                                           1.000000                   \n",
              "O Romeo, Romeo, wherefore art thou Romeo?                                                    0.273684                   \n",
              "\n",
              "                                                    O Romeo, Romeo, wherefore art thou Romeo?  \n",
              "i really enjoyed the movie last night                                                0.273159  \n",
              "so many amazing cinematic scenes yesterday                                           0.311290  \n",
              "had a great time writing my Python scripts a fe...                                   0.197557  \n",
              "huge sense of relief when my .py script finally...                                   0.273684  \n",
              "O Romeo, Romeo, wherefore art thou Romeo?                                            1.000000  "
            ]
          },
          "execution_count": 54,
          "metadata": {},
          "output_type": "execute_result"
        }
      ],
      "source": [
        "cos_sim_array = cosine_similarity(list(df.embeddings.values))\n",
        "\n",
        "# display as DataFrame\n",
        "df = pd.DataFrame(cos_sim_array, index=text, columns=text)\n",
        "df"
      ]
    },
    {
      "cell_type": "markdown",
      "metadata": {
        "id": "97a5e2e32df5"
      },
      "source": [
        "To make this easier to understand, you can use a heatmap. Naturally, text is most similar when they are identical (score of 1.0). The next highest scores are when sentences are semantically similar. The lowest scores are when sentences are quite different in meaning."
      ]
    },
    {
      "cell_type": "code",
      "execution_count": null,
      "metadata": {
        "id": "560ea2a11535",
        "tags": [],
        "outputId": "96884c34-f6cf-45a4-8a32-f875468f1c0e"
      },
      "outputs": [
        {
          "data": {
            "text/plain": [
              "[Text(0.5, 1, 'i really enjoyed the movie last night'),\n",
              " Text(1.5, 1, 'so many amazing cinematic scenes yesterday'),\n",
              " Text(2.5, 1, 'had a great time writing my Python scripts a few days ago'),\n",
              " Text(3.5, 1, 'huge sense of relief when my .py script finally ran without error'),\n",
              " Text(4.5, 1, 'O Romeo, Romeo, wherefore art thou Romeo?')]"
            ]
          },
          "execution_count": 55,
          "metadata": {},
          "output_type": "execute_result"
        },
        {
          "data": {
            "image/png": "[encoded data removed]",
            "text/plain": [
              "<Figure size 640x480 with 2 Axes>"
            ]
          },
          "metadata": {},
          "output_type": "display_data"
        }
      ],
      "source": [
        "ax = sns.heatmap(df, annot=True, cmap=\"crest\")\n",
        "ax.xaxis.tick_top()\n",
        "ax.set_xticklabels(text, rotation=90)"
      ]
    },
    {
      "cell_type": "markdown",
      "metadata": {
        "id": "5B1PlCAr3GQi"
      },
      "source": [
        "## Code generation with Gemini-pro"
      ]
    },
    {
      "cell_type": "markdown",
      "metadata": {
        "id": "wzoNuCqd3pbn"
      },
      "source": [
        "\n",
        "The code generation model (Codey) from PaLM API that you will use in this notebook is code-bison@001. It is fine-tuned to follow natural language instructions to generate required code and is suitable for a variety of coding tasks, such as:\n",
        "\n",
        "- writing functions\n",
        "- writing classes\n",
        "- web-apges\n",
        "- unit tests\n",
        "- docstrings\n",
        "- code translations, and many more use-cases.\n",
        "\n",
        "Currently it supports the following languages:\n",
        "- C++\n",
        "- C#\n",
        "- Go\n",
        "- GoogleSQL\n",
        "- Java\n",
        "- JavaScript\n",
        "- Kotlin\n",
        "- PHP\n",
        "- Python\n",
        "- Ruby\n",
        "- Rust\n",
        "- Scala\n",
        "- Swift\n",
        "- TypeScript\n",
        "\n",
        "You can find our more details [here](https://cloud.google.com/vertex-ai/docs/generative-ai/code/code-models-overview)."
      ]
    },
    {
      "cell_type": "markdown",
      "metadata": {
        "id": "H6AzUJLt-ihw"
      },
      "source": [
        "### Load model"
      ]
    },
    {
      "cell_type": "code",
      "execution_count": null,
      "metadata": {
        "id": "oErkHr93EkNv"
      },
      "outputs": [],
      "source": [
        "code = genai.GenerativeModel(\n",
        "  model_name=\"gemini-1.5-pro\",\n",
        "  generation_config=generation_config,\n",
        ")"
      ]
    },
    {
      "cell_type": "markdown",
      "metadata": {
        "id": "WIiZZHJAC0jC"
      },
      "source": [
        "### Hello Codey"
      ]
    },
    {
      "cell_type": "code",
      "execution_count": null,
      "metadata": {
        "id": "oiywwL1T5grZ",
        "tags": [],
        "outputId": "de5f7c4e-c935-4363-f81d-59153c813277"
      },
      "outputs": [
        {
          "name": "stdout",
          "output_type": "stream",
          "text": [
            "```python\n",
            "def binary_search(array, target):\n",
            "  \"\"\"\n",
            "  Performs binary search on a sorted array to find the index of a target value.\n",
            "\n",
            "  Args:\n",
            "    array: The sorted array to search.\n",
            "    target: The value to search for.\n",
            "\n",
            "  Returns:\n",
            "    The index of the target value in the array if found, otherwise -1.\n",
            "  \"\"\"\n",
            "\n",
            "  left = 0\n",
            "  right = len(array) - 1\n",
            "\n",
            "  while left <= right:\n",
            "    mid = (left + right) // 2  # Calculate middle index\n",
            "\n",
            "    if array[mid] == target:\n",
            "      return mid  # Target found at mid index\n",
            "    elif array[mid] < target:\n",
            "      left = mid + 1  # Search right half\n",
            "    else:\n",
            "      right = mid - 1  # Search left half\n",
            "\n",
            "  return -1  # Target not found in the array\n",
            "\n",
            "```\n"
          ]
        }
      ],
      "source": [
        "prompt = \"write a python function to do binary search\"\n",
        "\n",
        "response = code.generate_content(prompt)\n",
        "print(response.text)"
      ]
    },
    {
      "cell_type": "markdown",
      "metadata": {
        "id": "Dai1FtyDDUjX"
      },
      "source": [
        "### Try out your own prompt"
      ]
    },
    {
      "cell_type": "markdown",
      "metadata": {
        "id": "YukcUkJRDZvI"
      },
      "source": [
        "Some examples:\n",
        "* write Go program to extract ip addresses from the text file\n",
        "* write Java program that can extract pincodes from addresses\n",
        "* write a standard SQL function that strips all non-alphabet characters from the string and encodes it to utf-8"
      ]
    },
    {
      "cell_type": "code",
      "execution_count": null,
      "metadata": {
        "id": "CvKHdTHy6RIi",
        "tags": [],
        "outputId": "4bc7302d-8307-472c-e8c9-bdbf3ddb1f07"
      },
      "outputs": [
        {
          "name": "stdout",
          "output_type": "stream",
          "text": [
            "```python\n",
            "import numpy as np\n",
            "\n",
            "def calculate_cosine_similarity(vector1, vector2):\n",
            "  \"\"\"\n",
            "  Calculates the cosine similarity between two vectors.\n",
            "\n",
            "  Args:\n",
            "    vector1: A list or NumPy array representing the first vector.\n",
            "    vector2: A list or NumPy array representing the second vector.\n",
            "\n",
            "  Returns:\n",
            "    The cosine similarity between the two vectors, a scalar value between -1 and 1.\n",
            "  \"\"\"\n",
            "\n",
            "  vector1 = np.array(vector1)\n",
            "  vector2 = np.array(vector2)\n",
            "\n",
            "  dot_product = np.dot(vector1, vector2)\n",
            "  norm_vector1 = np.linalg.norm(vector1)\n",
            "  norm_vector2 = np.linalg.norm(vector2)\n",
            "\n",
            "  if norm_vector1 == 0 or norm_vector2 == 0:\n",
            "    return 0.0  # Handle cases\n"
          ]
        }
      ],
      "source": [
        "prefix = \"\"\"write a python function named as \"calculate_cosine_similairty\" and three unit \\\n",
        "            tests where it takes two arguments \"vector1\" and \"vector2\". \\\n",
        "            It then uses numpy dot function to calculate the dot product of the two vectors. \\n\n",
        "          \"\"\"\n",
        "\n",
        "response = code.generate_content(prefix)\n",
        "print(response.text)"
      ]
    },
    {
      "cell_type": "markdown",
      "metadata": {
        "id": "iZ0AEuFAEB1N"
      },
      "source": [
        "### Prompt templates"
      ]
    },
    {
      "cell_type": "markdown",
      "metadata": {
        "id": "LpFTrfLnFHBy"
      },
      "source": [
        "Prompt templates are useful if you have found a good way to structure your prompt that you can re-use. This can be also be helpful in limiting the open-endedness of freeform prompts. There are many ways to implement prompt templates, and below is just one example using f-strings. This way you can structure the prompts as per the expected funcationality of the code."
      ]
    },
    {
      "cell_type": "code",
      "execution_count": null,
      "metadata": {
        "id": "gznmqXU067tj",
        "tags": [],
        "outputId": "05ff47c7-b063-4e48-846d-29395bcfe66e"
      },
      "outputs": [
        {
          "name": "stdout",
          "output_type": "stream",
          "text": [
            "```cpp\n",
            "#include <iostream>\n",
            "#include <string>\n",
            "#include <vector>\n",
            "#include <set>\n",
            "#include <cctype>\n",
            "\n",
            "#include \"json.hpp\" // Assuming you are using nlohmann/json library\n",
            "\n",
            "// Function to extract names from JSON\n",
            "std::set<std::string> extractNamesFromJson(const std::string& jsonString) {\n",
            "    // Result set to store unique names\n",
            "    std::set<std::string> names;\n",
            "\n",
            "    // Parse the JSON string\n",
            "    nlohmann::json jsonData = nlohmann::json::parse(jsonString);\n",
            "\n",
            "    // Iterate through the JSON object (assuming names are values)\n",
            "    for (const auto& [key, value] : jsonData.items()) {\n",
            "        std::string name = value.get<std::string>();\n",
            "\n",
            "        // Check if the first character is uppercase\n",
            "        if (std::isupper(name[0])) {\n",
            "\n"
          ]
        }
      ],
      "source": [
        "language = \"C++ function\"\n",
        "file_format = \"json\"\n",
        "extract_info = \"names\"\n",
        "requirments = \"\"\"\n",
        "              - the name should be start with capital letters.\n",
        "              - There should be no duplicate names in the final list.\n",
        "              \"\"\"\n",
        "\n",
        "prefix = f\"\"\"Create a {language} to parse {file_format} and extract {extract_info} with the following requirements: {requirments}.\n",
        "              \"\"\"\n",
        "\n",
        "response = code.generate_content(prefix)\n",
        "print(response.text)"
      ]
    },
    {
      "cell_type": "markdown",
      "metadata": {
        "id": "TYmU--5p7pTb"
      },
      "source": [
        "## Code completion with `gemini-pro`"
      ]
    },
    {
      "cell_type": "markdown",
      "metadata": {
        "id": "pQzLgVJtH_FD"
      },
      "source": [
        "Code completion API has few more parameters than code generation.\n",
        "\n",
        "* prefix: *required* : For code models, prefix represents the beginning of a piece of meaningful programming code or a natural language prompt that describes code to be generated.\n",
        "\n",
        "* suffix: *optional* : For code completion, suffix represents the end of a piece of meaningful programming code. The model attempts to fill in the code in between the prefix and suffix.\n",
        "\n",
        "* temperature:  *required* : Temperature controls the degree of randomness in token selection. Same as for other models. range: (0.0 - 1.0, default 0)\n",
        "\n",
        "* maxOutputTokens: *required* : Maximum number of tokens that can be generated in the response. **range: (1 - 64, default 64)**\n",
        "\n",
        "* stopSequences: *optional*  : Specifies a list of strings that tells the model to stop generating text if one of the strings is encountered in the response. The strings are case-sensitive."
      ]
    },
    {
      "cell_type": "code",
      "execution_count": null,
      "metadata": {
        "id": "Gq-yhdnC8INm",
        "tags": [],
        "outputId": "128d3e7d-b4aa-4ace-cdba-94d9defbeb0f"
      },
      "outputs": [
        {
          "name": "stdout",
          "output_type": "stream",
          "text": [
            "```python\n",
            "def find_x_in_string(string_s, x):\n",
            "  \"\"\"\n",
            "  This function checks if a given character 'x' is present in a string 'string_s'.\n",
            "\n",
            "  Args:\n",
            "    string_s: The string to search within.\n",
            "    x: The character to search for.\n",
            "\n",
            "  Returns:\n",
            "    True if the character is found in the string, False otherwise.\n",
            "  \"\"\"\n",
            "  for char in string_s:\n",
            "    if char == x:\n",
            "      return True\n",
            "  return False\n",
            "\n",
            "```\n",
            "\n"
          ]
        }
      ],
      "source": [
        "generation_config = {\n",
        "    \"temperature\": 0.3,\n",
        "    \"max_output_tokens\": 64,\n",
        "    \"top_p\": 0.8,\n",
        "    \"top_k\": 40,\n",
        "    \"response_mime_type\": \"text/plain\",\n",
        "}\n",
        "prefix = \"\"\"\n",
        "          def find_x_in_string(string_s, x):\n",
        "         \"\"\"\n",
        "\n",
        "response = code.generate_content(prefix)\n",
        "print(response.text)"
      ]
    },
    {
      "cell_type": "code",
      "execution_count": null,
      "metadata": {
        "id": "UzA2toRG8yoN",
        "tags": [],
        "outputId": "6c70cb92-6ea9-4ed2-e495-9f2e1c9f079a"
      },
      "outputs": [
        {
          "name": "stdout",
          "output_type": "stream",
          "text": [
            "```python\n",
            "         def reverse_string(s):\n",
            "            return s[::-1]\n",
            "         \n",
            "         def test_empty_input_string():\n",
            "             assert reverse_string(\"\") == \"\"\n",
            "```\n"
          ]
        }
      ],
      "source": [
        "prefix = \"\"\"\n",
        "         def reverse_string(s):\n",
        "            return s[::-1]\n",
        "         def test_empty_input_string()\n",
        "         \"\"\"\n",
        "\n",
        "response = code.generate_content(prefix)\n",
        "print(response.text)"
      ]
    },
    {
      "cell_type": "markdown",
      "metadata": {
        "id": "0xGtPv3lEkNw"
      },
      "source": [
        "#### CodeChat"
      ]
    },
    {
      "cell_type": "markdown",
      "metadata": {
        "id": "v9Pfs4jWEMOV"
      },
      "source": [
        "The with gemini you can code chat with you model lets you have a freeform conversation across multiple turns from a code context. The application tracks what was previously said in the conversation. As such, if you expect to use conversations in your application for code generation."
      ]
    },
    {
      "cell_type": "code",
      "execution_count": null,
      "metadata": {
        "id": "oyR-fqiYEkNw",
        "outputId": "8d234c81-defd-4da9-d898-91bb38aafb2e"
      },
      "outputs": [
        {
          "name": "stdout",
          "output_type": "stream",
          "text": [
            "```python\n",
            "def min_of_two(num1, num2):\n",
            "  \"\"\"\n",
            "  This function takes two numbers as input and returns the smaller one.\n",
            "\n",
            "  Args:\n",
            "      num1: The first number.\n",
            "      num2: The second number.\n",
            "\n",
            "  Returns:\n",
            "      The smaller of the two input numbers.\n",
            "  \"\"\"\n",
            "\n",
            "  if num1 < num2:\n",
            "    return num1\n",
            "  else:\n",
            "    return num2\n",
            "\n",
            "# Example usage\n",
            "number1 = 15\n",
            "number2 = 6\n",
            "minimum = min_of_two(number1, number2)\n",
            "print(f\"The minimum of {number1} and {number2} is: {minimum}\")\n",
            "```\n",
            "\n",
            "**Explanation:**\n",
            "\n",
            "1. **Function Definition:**\n",
            "   - `def min_of_two(num1, num2):` defines a function named `min_of_two` that accepts two parameters, `num1` and `num2`.\n",
            "\n",
            "2. **Comparison:**\n",
            "   - `if num1 < num2:` checks if the value of `num1` is less than `num2`.\n",
            "\n",
            "3. **Returning the Smaller Number:**\n",
            "   - If the condition in the `if` statement is true (`num1` is smaller), the function returns `num1`.\n",
            "   - `else:`: If the condition is false, it means `num2` is smaller or equal, so the function returns `num2`.\n",
            "\n",
            "4. **Example Usage:**\n",
            "   - The code outside the function definition demonstrates how to use the `min_of_two` function. It defines two variables (`number1` and `number2`), calls the function with these variables, and prints the returned minimum value.\n",
            "\n",
            "This function provides a clear and reusable way to find the minimum of two numbers in your Python code. \n",
            "\n"
          ]
        }
      ],
      "source": [
        "model = genai.GenerativeModel('gemini-1.5-pro')\n",
        "chat = model.start_chat()\n",
        "\n",
        "print(chat.send_message(\n",
        "    \"Please help write a function to calculate the min of two numbers\"\n",
        ").text)"
      ]
    },
    {
      "cell_type": "markdown",
      "metadata": {
        "id": "oVS9FtJ7Egdp"
      },
      "source": [
        "As shown below, the model should respond based on what was previously asked in the conversation:"
      ]
    },
    {
      "cell_type": "code",
      "execution_count": null,
      "metadata": {
        "id": "Xr9gKcOu9sof",
        "tags": [],
        "outputId": "2216774e-0616-472e-ef23-a99ffe990f72"
      },
      "outputs": [
        {
          "name": "stdout",
          "output_type": "stream",
          "text": [
            "Here's a line-by-line explanation of the code:\n",
            "\n",
            "**1. `def min_of_two(num1, num2):`**\n",
            "   - **`def` Keyword:** This line starts with the `def` keyword, indicating that we are defining a new function.\n",
            "   - **Function Name:**  `min_of_two` is the name we've chosen for this function. Choose a descriptive name that reflects what the function does.\n",
            "   - **Parameters (Input):** The names within the parentheses, `num1` and `num2`, are the parameters of the function. These act as placeholders for the actual values that will be passed to the function when it's called.\n",
            "   - **Colon:** The colon `:` at the end of the line is essential and marks the beginning of the function's code block.\n",
            "\n",
            "**2. `  \"\"\"`**\n",
            "   - **Docstring (Documentation):** The triple quotes (`\"\"\"`) begin a docstring.  Docstrings are used to document your code. They are particularly helpful for others (and yourself in the future) to understand what the function does.\n",
            "   - **Function Description:** This part of the docstring should concisely explain the purpose of the function.\n",
            "   - **Args:** This section describes the expected input parameters (`num1`, `num2`) and their types.\n",
            "   - **Returns:** This section clarifies the type of value the function returns.\n",
            "   - **`  \"\"\"`**\n",
            "\n",
            "**3. `  if num1 < num2:`**\n",
            "   - **Comparison:** This line performs the core logic of the function. It compares the values of `num1` and `num2` using the less than operator (`<`). \n",
            "   - **Conditional Statement:** The `if` keyword indicates that the following code block (indented lines) will only execute if this comparison is true (if `num1` is indeed smaller).\n",
            "\n",
            "**4. `    return num1`**\n",
            "   - **Return Value:**  If the condition in the `if` statement is true (meaning `num1` is smaller), this line executes.\n",
            "   - **`return` Keyword:** The `return` keyword immediately exits the function and sends the value of `num1` back to where the function was called. \n",
            "\n",
            "**5. `  else:`**\n",
            "   - **Alternative Case:** The `else` keyword provides an alternative code block that will execute if the `if` condition (on line 3) was false. In this case, it means `num2` is either smaller than or equal to `num1`.\n",
            "\n",
            "**6. `    return num2`**\n",
            "   - **Return Value:**  If the `if` condition was false, this line executes, returning the value of `num2` since it must be the smaller or equal value.\n",
            "\n",
            "**7. `# Example usage`**\n",
            "   - **Comment:** This line is a comment. Comments are ignored by the Python interpreter and are used to explain your code.\n",
            "\n",
            "**8.  `number1 = 15`**\n",
            "   - **Variable Assignment:** This line creates a variable named `number1` and assigns it the value `15`.\n",
            "\n",
            "**9.  `number2 = 6`**\n",
            "   - **Variable Assignment:** Similar to the previous line, this creates a variable `number2` and sets it to `6`.\n",
            "\n",
            "**10. `minimum = min_of_two(number1, number2)`**\n",
            "    - **Function Call:** This line calls the `min_of_two` function, passing the values stored in `number1` (15) and `number2` (6) as arguments. The returned value (the minimum, which is 6 in this case) is stored in the variable `minimum`.\n",
            "\n",
            "**11. `print(f\"The minimum of {number1} and {number2} is: {minimum}\")`**\n",
            "    - **Output:** This line prints the result to the console. The `print()` function displays text, and the f-string (formatted string) allows you to embed variables directly within the string using curly braces `{}`. \n",
            "\n",
            "Let me know if you would like more detail on any specific part! \n",
            "\n"
          ]
        }
      ],
      "source": [
        "print(chat.send_message(\n",
        "        \"can you explain the code line by line in bullets?\",\n",
        "    ).text\n",
        ")"
      ]
    },
    {
      "cell_type": "markdown",
      "metadata": {
        "id": "XnjhfcIjEqcl"
      },
      "source": [
        "You can take another example and ask the model to give more general code suggestion for a specific problem that you are working on."
      ]
    },
    {
      "cell_type": "code",
      "execution_count": null,
      "metadata": {
        "id": "9_ZAiZW2-GD5",
        "tags": [],
        "outputId": "9a26bf8d-8c91-4c18-d53e-81df25268c7a"
      },
      "outputs": [
        {
          "name": "stdout",
          "output_type": "stream",
          "text": [
            "You got it! Here's the line-by-line explanation of the `min_of_two` function in bullet points, focusing on clarity:\n",
            "\n",
            "**Inside the function definition:**\n",
            "\n",
            "* **`def min_of_two(num1, num2):`**\n",
            "    - **`def`:** This tells Python we're creating a new function.\n",
            "    - **`min_of_two`:**  The name we've chosen for our function, making it easy to call later.\n",
            "    - **`(num1, num2)`:** The parentheses hold the names `num1` and `num2`.  These are like temporary boxes inside the function. When we use the function, we'll put our actual numbers into these boxes.\n",
            "    - **`:`:**  The colon signals the start of the instructions inside our function.\n",
            "\n",
            "* **`  \"\"\"`**\n",
            "   - **Documentation:** This starts a multi-line comment, perfect for explaining what our function does in detail.\n",
            "\n",
            "* **`  This function takes two numbers as input and returns the smaller one.`**\n",
            "   - **Clear Purpose:** This line, part of our documentation, summarizes what the function does.\n",
            "\n",
            "* **`  Args:`**\n",
            "   - **Input Explanation:** This section describes the function's inputs (`num1` and `num2`).\n",
            "\n",
            "* **`      num1: The first number.`** \n",
            "   - **`num1`:** The first input we expect.\n",
            "   - **`The first number.`:** A simple description of this input.\n",
            "\n",
            "* **`      num2: The second number.`** \n",
            "   - **`num2`:** The second input we expect.\n",
            "   - **`The second number.`:** A simple description of this input.\n",
            "\n",
            "* **`  Returns:`**\n",
            "   - **Output Explanation:** This section describes what the function will send back after it's done.\n",
            "\n",
            "* **`      The smaller of the two input numbers.`**\n",
            "   - **What We Get Back:** This clearly states that the function returns the smaller of the two numbers given to it.\n",
            "\n",
            "* **`  \"\"\"`**\n",
            "\n",
            "* **`  if num1 < num2:`**\n",
            "    - **`if`:**  This is how we make decisions in code. We're asking \"Is `num1` less than `num2`?\".\n",
            "    - **`<`:** This is the \"less than\" comparison. \n",
            "    - **`:`:**  Another colon, indicating the start of the instructions to follow if the comparison is true.\n",
            "\n",
            "* **`    return num1`**\n",
            "    - **`return`:** This means \"Function's job is done! Send this value back.\"\n",
            "    - **`num1`:** If `num1` was indeed smaller, we send it back as the result.\n",
            "\n",
            "* **`  else:`**\n",
            "    - **`else`:**  If the earlier `if` condition was false (meaning `num1` wasn't smaller), we do this instead.\n",
            "\n",
            "* **`    return num2`**\n",
            "    - **`return`:** Same as before, ending the function and sending back a value.\n",
            "    - **`num2`:**  Since `num1` wasn't smaller, `num2` must be the smaller (or equal) one, so we return it.\n",
            "\n",
            "**Outside the function (example):**\n",
            "\n",
            "* **`# Example usage`**\n",
            "    - **Comment:** This line is just a note to ourselves (or others) explaining the code that follows.\n",
            "\n",
            "* **`number1 = 15`**\n",
            "    - **Creating a variable:** We're making a box called `number1` to hold the number `15`.\n",
            "\n",
            "* **`number2 = 6`**\n",
            "    - **Creating another variable:** Same idea, but this box (`number2`) holds the number `6`.\n",
            "\n",
            "* **`minimum = min_of_two(number1, number2)`**\n",
            "    - **Using our function:**\n",
            "        - **`min_of_two(number1, number2)`:**  We're calling our function and putting the values from `number1` (15) and `number2` (6) into those temporary boxes (`num1` and `num2`) inside the function.\n",
            "        - **`minimum = ...`:**  We're storing the result our function gives back (the smaller number) into a new box called `minimum`.\n",
            "\n",
            "* **`print(f\"The minimum of {number1} and {number2} is: {minimum}\")`**\n",
            "    - **Showing the result:**\n",
            "        - **`print(...)`:** This is how we display things on the screen.\n",
            "        - **`f\"...\"`:**  This lets us embed variables directly into the text. \n",
            "        - **`{number1}`**, **`{number2}`**, **`{minimum}`:** These get replaced with the actual values of those variables. \n",
            "\n",
            "Let me know if you have any more questions. \n",
            "\n"
          ]
        }
      ],
      "source": [
        "print(chat.send_message(\n",
        "    \"can you explain the code line by line in bullets?\"\n",
        ").text)"
      ]
    }
  ],
  "metadata": {
    "colab": {
      "provenance": [],
      "toc_visible": true
    },
    "environment": {
      "kernel": "python3",
      "name": "tf2-cpu.2-11.m113",
      "type": "gcloud",
      "uri": "gcr.io/deeplearning-platform-release/tf2-cpu.2-11:m113"
    },
    "kernelspec": {
      "display_name": "Python 3",
      "language": "python",
      "name": "python3"
    },
    "language_info": {
      "codemirror_mode": {
        "name": "ipython",
        "version": 3
      },
      "file_extension": ".py",
      "mimetype": "text/x-python",
      "name": "python",
      "nbconvert_exporter": "python",
      "pygments_lexer": "ipython3",
      "version": "3.11.6"
    }
  },
  "nbformat": 4,
  "nbformat_minor": 0
}