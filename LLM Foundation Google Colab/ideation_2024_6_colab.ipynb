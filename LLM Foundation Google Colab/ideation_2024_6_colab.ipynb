{
  "cells": [
    {
      "cell_type": "markdown",
      "metadata": {
        "id": "JAPoU8Sm5E6e"
      },
      "source": [
        "# Ideation with Generative Models on Vertex AI\n",
        "\n",
        "<table align=\"left\">\n",
        "  <td style=\"text-align: center\">\n",
        "    <a href=\"https://colab.research.google.com/github/GoogleCloudPlatform/generative-ai/blob/main/language/prompts/examples/ideation.ipynb\">\n",
        "      <img src=\"https://cloud.google.com/ml-engine/images/colab-logo-32px.png\" alt=\"Google Colaboratory logo\"><br> Run in Colab\n",
        "    </a>\n",
        "  </td>\n",
        "  <td style=\"text-align: center\">\n",
        "    <a href=\"https://github.com/GoogleCloudPlatform/generative-ai/blob/main/language/prompts/examples/ideation.ipynb\">\n",
        "      <img src=\"https://cloud.google.com/ml-engine/images/github-logo-32px.png\" alt=\"GitHub logo\"><br> View on GitHub\n",
        "    </a>\n",
        "  </td>\n",
        "  <td style=\"text-align: center\">\n",
        "    <a href=\"https://console.cloud.google.com/vertex-ai/workbench/deploy-notebook?download_url=https://raw.githubusercontent.com/GoogleCloudPlatform/generative-ai/blob/main/language/prompts/examples/ideation.ipynb\">\n",
        "      <img src=\"https://lh3.googleusercontent.com/UiNooY4LUgW_oTvpsNhPpQzsstV5W8F7rYgxgGBD85cWJoLmrOzhVs_ksK_vgx40SHs7jCqkTkCk=e14-rj-sc0xffffff-h130-w32\" alt=\"Vertex AI logo\"><br> Open in Vertex AI Workbench\n",
        "    </a>\n",
        "  </td>\n",
        "</table>\n"
      ]
    },
    {
      "cell_type": "markdown",
      "metadata": {
        "id": "tvgnzT1CKxrO"
      },
      "source": [
        "## Overview\n",
        "\n",
        "Ideation is the creative process of generating, developing, and communicating new ideas. It is a key part of the design thinking process, and can be used to solve problems, come up with new products or services, or other creative tasks.\n",
        "\n",
        "Generative models are a powerful tool that can be used to boost creativity and innovation. By learning how to use them effectively, you can improve your ability to come up with new ideas and solutions to problems. A key part in this is learning how to structure prompts to use generative models for ideation tasks.\n",
        "\n",
        "Learn more about prompt design in the [official documentation](https://cloud.google.com/vertex-ai/docs/generative-ai/text/text-overview#prompt_structure)."
      ]
    },
    {
      "cell_type": "markdown",
      "metadata": {
        "id": "d975e698c9a4"
      },
      "source": [
        "### Objective\n",
        "\n",
        "In this tutorial, you will learn how to use generative models from the Vertex AI SDK to accelerate the ideation process by working through the following examples:\n",
        "- Marketing campaign generation\n",
        "- Creating reading comprehension questions\n",
        "- Meme generation\n",
        "- Interview question generation\n",
        "- Name generation\n",
        "- General tips and advice\n",
        "- Generating answers through \"impersonation\""
      ]
    },
    {
      "cell_type": "markdown",
      "metadata": {
        "id": "aed92deeb4a0"
      },
      "source": [
        "### Costs\n",
        "\n",
        "This tutorial uses billable components of Google Cloud:\n",
        "\n",
        "* Vertex AI Generative AI Studio\n",
        "\n",
        "Learn about [Vertex AI pricing](https://cloud.google.com/vertex-ai/pricing),\n",
        "and use the [Pricing Calculator](https://cloud.google.com/products/calculator/)\n",
        "to generate a cost estimate based on your projected usage."
      ]
    },
    {
      "cell_type": "markdown",
      "metadata": {
        "id": "UwfLa-Uzua-4"
      },
      "source": [
        "## Getting Started"
      ]
    },
    {
      "cell_type": "markdown",
      "metadata": {
        "id": "2a5AEr0lkLKD"
      },
      "source": [
        "### Install Vertex AI SDK"
      ]
    },
    {
      "cell_type": "code",
      "execution_count": 1,
      "metadata": {
        "id": "148dd6321946"
      },
      "outputs": [],
      "source": [
        "# !pip install google-cloud-aiplatform"
      ]
    },
    {
      "cell_type": "markdown",
      "metadata": {
        "id": "RzMpGT5hA0_J"
      },
      "source": [
        "**Colab only:** Uncomment the following cell to restart the kernel or use the button to restart the kernel. For Vertex AI Workbench you can restart the terminal using the button on top."
      ]
    },
    {
      "cell_type": "code",
      "execution_count": null,
      "metadata": {
        "id": "_Hsqwn4hkLKE"
      },
      "outputs": [],
      "source": [
        "# # Automatically restart kernel after installs so that your environment can access the new packages\n",
        "# import IPython\n",
        "\n",
        "# app = IPython.Application.instance()\n",
        "# app.kernel.do_shutdown(True)"
      ]
    },
    {
      "cell_type": "markdown",
      "metadata": {
        "id": "Xe7OuYuGkLKF"
      },
      "source": [
        "### Authenticating your notebook environment\n",
        "* If you are using **Colab** to run this notebook, uncomment the cell below and continue.\n",
        "* If you are using **Vertex AI Workbench**, check out the setup instructions [here](https://github.com/GoogleCloudPlatform/generative-ai/tree/main/setup-env)."
      ]
    },
    {
      "cell_type": "code",
      "execution_count": null,
      "metadata": {
        "id": "U9Gx2SAZkLKF"
      },
      "outputs": [],
      "source": [
        "# from google.colab import auth\n",
        "# auth.authenticate_user()"
      ]
    },
    {
      "cell_type": "markdown",
      "metadata": {
        "id": "960505627ddf"
      },
      "source": [
        "### Import libraries\n"
      ]
    },
    {
      "cell_type": "markdown",
      "metadata": {
        "id": "jljGtaiyA0_J"
      },
      "source": [
        "**Colab only:** Uncomment the following cell to initialize the Vertex AI SDK. For Vertex AI Workbench, you don't need to run this.  "
      ]
    },
    {
      "cell_type": "code",
      "execution_count": null,
      "metadata": {
        "id": "d5B6_XLSA0_J"
      },
      "outputs": [],
      "source": [
        "# import vertexai\n",
        "\n",
        "# PROJECT_ID = \"[your-project-id]\"  # @param {type:\"string\"}\n",
        "# vertexai.init(project=PROJECT_ID, location=\"us-central1\")"
      ]
    },
    {
      "cell_type": "code",
      "source": [
        "from google.colab import userdata\n",
        "import google.generativeai as genai\n",
        "\n",
        "GOOGLE_API_KEY = userdata.get('GEMINI_API_KEY')\n",
        "genai.configure(api_key=GOOGLE_API_KEY)"
      ],
      "metadata": {
        "id": "XmQFWqw4A_tr"
      },
      "execution_count": 3,
      "outputs": []
    },
    {
      "cell_type": "code",
      "execution_count": 4,
      "metadata": {
        "id": "PyQmSRbKA8r-"
      },
      "outputs": [],
      "source": [
        "from vertexai.language_models import TextGenerationModel\n",
        "import google.generativeai as genai\n",
        "import os\n",
        "\n",
        "generation_config = {\n",
        "    \"temperature\": 0.2,\n",
        "    \"max_output_tokens\": 1024,\n",
        "    \"top_k\": 40,\n",
        "    \"top_p\": 0.8\n",
        "}"
      ]
    },
    {
      "cell_type": "markdown",
      "metadata": {
        "id": "UP76a2la7O-a"
      },
      "source": [
        "### Import models"
      ]
    },
    {
      "cell_type": "code",
      "execution_count": 5,
      "metadata": {
        "id": "7isig7e07O-a"
      },
      "outputs": [],
      "source": [
        "model = genai.GenerativeModel(\n",
        "  model_name=\"gemini-1.5-flash\",\n",
        "  generation_config=generation_config,\n",
        ")"
      ]
    },
    {
      "cell_type": "markdown",
      "metadata": {
        "id": "LoYLyYlLxN72"
      },
      "source": [
        "## Ideation Examples"
      ]
    },
    {
      "cell_type": "markdown",
      "metadata": {
        "id": "Km9MirdFua-5"
      },
      "source": [
        "### Marketing campaign generation\n",
        "\n",
        "In this example, our generation example will involve the process of creating new cookie recipes. Let's see how this can be done using the Gemini API."
      ]
    },
    {
      "cell_type": "code",
      "execution_count": 6,
      "metadata": {
        "id": "q2v5Pdkdua-6",
        "colab": {
          "base_uri": "https://localhost:8080/",
          "height": 1000
        },
        "outputId": "f1cad1f6-1771-4c08-c6cf-9429d0cff27b"
      },
      "outputs": [
        {
          "output_type": "stream",
          "name": "stdout",
          "text": [
            "## Sustainable Style: A Campaign for Conscious Fashion\n",
            "\n",
            "**Campaign Goal:** To raise awareness about sustainable fashion practices and encourage consumers to make conscious choices when buying clothes.\n",
            "\n",
            "**Target Audience:** Fashion-conscious individuals who are environmentally aware and value ethical production.\n",
            "\n",
            "**Campaign Theme:** \"Dress with Purpose: Sustainable Style for a Better Tomorrow\"\n",
            "\n",
            "**Campaign Elements:**\n",
            "\n",
            "**1. Social Media Campaign:**\n",
            "\n",
            "* **Hashtag:** #DressWithPurpose\n",
            "* **Instagram:** \n",
            "    *  Showcase stylish and sustainable clothing from various brands.\n",
            "    *  Run a \"Sustainable Style Challenge\" where users share their eco-friendly outfits.\n",
            "    *  Host live Q&A sessions with sustainable fashion experts.\n",
            "* **Facebook:**\n",
            "    *  Create a dedicated Facebook group for sustainable fashion enthusiasts.\n",
            "    *  Share articles and infographics about the environmental impact of fast fashion.\n",
            "    *  Run contests and giveaways featuring sustainable fashion brands.\n",
            "* **TikTok:**\n",
            "    *  Create engaging video content showcasing sustainable fashion trends and tips.\n",
            "    *  Collaborate with sustainable fashion influencers.\n",
            "    *  Use trending sounds and filters to reach a wider audience.\n",
            "\n",
            "**2. Influencer Marketing:**\n",
            "\n",
            "* Partner with sustainable fashion influencers to promote the campaign and share their personal experiences with conscious fashion.\n",
            "* Encourage influencers to create content around the #DressWithPurpose hashtag.\n",
            "* Offer exclusive discounts and promotions to influencer followers.\n",
            "\n",
            "**3. Content Marketing:**\n",
            "\n",
            "* **Blog:** Publish articles about sustainable fashion practices, ethical brands, and tips for building a conscious wardrobe.\n",
            "* **Email Marketing:** Send out newsletters with exclusive deals, new product launches, and sustainable fashion tips.\n",
            "* **Website:** Create a dedicated landing page for the campaign with information about sustainable fashion and a curated selection of eco-friendly brands.\n",
            "\n",
            "**4. Events and Workshops:**\n",
            "\n",
            "* Host pop-up shops featuring sustainable fashion brands.\n",
            "* Organize workshops on upcycling, mending, and DIY clothing projects.\n",
            "* Partner with local organizations to host fashion shows featuring sustainable designs.\n",
            "\n",
            "**5. Partnerships:**\n",
            "\n",
            "* Collaborate with sustainable fashion brands to offer exclusive discounts and promotions to campaign participants.\n",
            "* Partner with environmental organizations to raise awareness about the impact of fashion on the planet.\n",
            "\n",
            "**6. Visual Identity:**\n",
            "\n",
            "* Create a visually appealing campaign logo and color palette that reflects the values of sustainability and style.\n",
            "* Use high-quality images and videos that showcase the beauty and diversity of sustainable fashion.\n",
            "\n",
            "**Call to Action:**\n",
            "\n",
            "* Encourage consumers to shop sustainably and support ethical brands.\n",
            "* Promote the use of the #DressWithPurpose hashtag to spread awareness.\n",
            "* Offer incentives for participating in the campaign, such as discounts, giveaways, and exclusive content.\n",
            "\n",
            "**Campaign Measurement:**\n",
            "\n",
            "* Track social media engagement, website traffic, and sales conversions.\n",
            "* Monitor the reach and impact of the campaign through influencer marketing and partnerships.\n",
            "* Analyze customer feedback and adjust the campaign strategy accordingly.\n",
            "\n",
            "**By implementing this comprehensive marketing campaign, you can effectively promote sustainable fashion and encourage consumers to make conscious choices that benefit both their style and the planet.** \n",
            "\n"
          ]
        }
      ],
      "source": [
        "prompt = \"Generate a marketing campaign for sustainability and fashion\"\n",
        "\n",
        "response = model.generate_content(prompt)\n",
        "print(response.text)"
      ]
    },
    {
      "cell_type": "markdown",
      "metadata": {
        "id": "7DC1rKWlua-6"
      },
      "source": [
        "### Creating reading comprehension questions\n",
        "\n",
        "Reading comprehension tests are often used in schools and universities to assess a student's reading skills. You can use the Gemini API to generate some example questions to test a person's understanding of a provided passage of text."
      ]
    },
    {
      "cell_type": "code",
      "execution_count": 7,
      "metadata": {
        "id": "Shb54o4vua-6",
        "colab": {
          "base_uri": "https://localhost:8080/",
          "height": 332
        },
        "outputId": "e4866268-08e3-43ac-dc4d-a6c55bbaf361"
      },
      "outputs": [
        {
          "output_type": "stream",
          "name": "stdout",
          "text": [
            "Here are 5 comprehension questions based on the provided text about the Amazon rainforest:\n",
            "\n",
            "1. **What is the primary source of phosphorus that fertilizes the Amazon rainforest, and how does it reach the rainforest?** \n",
            "    * This question tests understanding of the text's explanation of the Sahara dust's role in fertilizing the Amazon.\n",
            "\n",
            "2. **Describe the debate among scientists regarding the impact of the last glacial maximum on the Amazon rainforest. What evidence supports each side of the debate?**\n",
            "    * This question assesses comprehension of the different theories about the rainforest's response to past climate changes and the evidence used to support them.\n",
            "\n",
            "3. **How has the formation of the Andes Mountains influenced the development of the Amazon River basin?**\n",
            "    * This question tests understanding of the text's explanation of the geological processes that shaped the Amazon River system.\n",
            "\n",
            "4. **What is the significance of the Amazon rainforest in terms of global biodiversity and its role in the Earth's ecosystem?**\n",
            "    * This question assesses the reader's grasp of the rainforest's importance as a global biodiversity hotspot and its contribution to the planet's overall ecosystem.\n",
            "\n",
            "5. **Explain how the CALIPSO satellite is used to study the transport of dust from the Sahara to the Amazon, and what factors can influence the amount of dust transported.**\n",
            "    * This question tests understanding of the satellite's role in monitoring dust transport and the factors that can affect the amount of dust reaching the Amazon. \n",
            "\n"
          ]
        }
      ],
      "source": [
        "prompt = \"\"\"\n",
        "Generate 5 questions that test a reader's comprehension of the following text.\n",
        "\n",
        "Text:\n",
        "The Amazon rainforest, also called Amazon jungle or Amazonia, is a moist broadleaf tropical rainforest in the Amazon biome that covers most of the Amazon basin of South America. This basin encompasses 7,000,000 km2 (2,700,000 sq mi), of which 5,500,000 km2 (2,100,000 sq mi) are covered by the rainforest. This region includes territory belonging to nine nations and 3,344 formally acknowledged indigenous territories.\n",
        "\n",
        "The majority of the forest, 60%, is in Brazil, followed by Peru with 13%, Colombia with 10%, and with minor amounts in Bolivia, Ecuador, French Guiana, Guyana, Suriname, and Venezuela. Four nations have \"Amazonas\" as the name of one of their first-level administrative regions, and France uses the name \"Guiana Amazonian Park\" for French Guiana's protected rainforest area. The Amazon represents over half of the planet's remaining rainforests, and comprises the largest and most biodiverse tract of tropical rainforest in the world, with an estimated 390 billion individual trees in about 16,000 species.\n",
        "\n",
        "More than 30 million people of 350 different ethnic groups live in the Amazon, which are subdivided into 9 different national political systems and 3,344 formally acknowledged indigenous territories. Indigenous peoples make up 9% of the total population, and 60 of the groups remain largely isolated.\n",
        "\n",
        "The rainforest likely formed during the Eocene era (from 56 million years to 33.9 million years ago). It appeared following a global reduction of tropical temperatures when the Atlantic Ocean had widened sufficiently to provide a warm, moist climate to the Amazon basin. The rainforest has been in existence for at least 55 million years, and most of the region remained free of savanna-type biomes at least until the current ice age when the climate was drier and savanna more widespread.\n",
        "\n",
        "Following the Cretaceous–Paleogene extinction event, the extinction of the dinosaurs and the wetter climate may have allowed the tropical rainforest to spread out across the continent. From 66 to 34 Mya, the rainforest extended as far south as 45°. Climate fluctuations during the last 34 million years have allowed savanna regions to expand into the tropics. During the Oligocene, for example, the rainforest spanned a relatively narrow band. It expanded again during the Middle Miocene, then retracted to a mostly inland formation at the last glacial maximum. However, the rainforest still managed to thrive during these glacial periods, allowing for the survival and evolution of a broad diversity of species.\n",
        "\n",
        "Aerial view of the Amazon rainforest\n",
        "During the mid-Eocene, it is believed that the drainage basin of the Amazon was split along the middle of the continent by the Púrus Arch. Water on the eastern side flowed toward the Atlantic, while to the west water flowed toward the Pacific across the Amazonas Basin. As the Andes Mountains rose, however, a large basin was created that enclosed a lake; now known as the Solimões Basin. Within the last 5–10 million years, this accumulating water broke through the Púrus Arch, joining the easterly flow toward the Atlantic.\n",
        "\n",
        "There is evidence that there have been significant changes in the Amazon rainforest vegetation over the last 21,000 years through the last glacial maximum (LGM) and subsequent deglaciation. Analyses of sediment deposits from Amazon basin paleolakes and the Amazon Fan indicate that rainfall in the basin during the LGM was lower than for the present, and this was almost certainly associated with reduced moist tropical vegetation cover in the basin. In present day, the Amazon receives approximately 9 feet of rainfall annually. There is a debate, however, over how extensive this reduction was. Some scientists argue that the rainforest was reduced to small, isolated refugia separated by open forest and grassland; other scientists argue that the rainforest remained largely intact but extended less far to the north, south, and east than is seen today. This debate has proved difficult to resolve because the practical limitations of working in the rainforest mean that data sampling is biased away from the center of the Amazon basin, and both explanations are reasonably well supported by the available data.\n",
        "\n",
        "Sahara Desert dust windblown to the Amazon\n",
        "More than 56% of the dust fertilizing the Amazon rainforest comes from the Bodélé depression in Northern Chad in the Sahara desert. The dust contains phosphorus, important for plant growth. The yearly Sahara dust replaces the equivalent amount of phosphorus washed away yearly in Amazon soil from rains and floods.\n",
        "\n",
        "NASA's CALIPSO satellite has measured the amount of dust transported by wind from the Sahara to the Amazon: an average of 182 million tons of dust are windblown out of the Sahara each year, at 15 degrees west longitude, across 2,600 km (1,600 mi) over the Atlantic Ocean (some dust falls into the Atlantic), then at 35 degrees West longitude at the eastern coast of South America, 27.7 million tons (15%) of dust fall over the Amazon basin (22 million tons of it consisting of phosphorus), 132 million tons of dust remain in the air, 43 million tons of dust are windblown and falls on the Caribbean Sea, past 75 degrees west longitude.\n",
        "\n",
        "CALIPSO uses a laser range finder to scan the Earth's atmosphere for the vertical distribution of dust and other aerosols. CALIPSO regularly tracks the Sahara-Amazon dust plume. CALIPSO has measured variations in the dust amounts transported – an 86 percent drop between the highest amount of dust transported in 2007 and the lowest in 2011.\n",
        "A possibility causing the variation is the Sahel, a strip of semi-arid land on the southern border of the Sahara. When rain amounts in the Sahel are higher, the volume of dust is lower. The higher rainfall could make more vegetation grow in the Sahel, leaving less sand exposed to winds to blow away.[25]\n",
        "\n",
        "Amazon phosphorus also comes as smoke due to biomass burning in Africa.\n",
        "\n",
        "Questions:\n",
        "\"\"\"\n",
        "\n",
        "response = model.generate_content(prompt)\n",
        "print(response.text)"
      ]
    },
    {
      "cell_type": "markdown",
      "metadata": {
        "id": "GCcCMhbOua-7"
      },
      "source": [
        "### Meme generation\n",
        "\n",
        "A more lighthearted text generation example is to generate memes based on a certain topic."
      ]
    },
    {
      "cell_type": "code",
      "execution_count": 8,
      "metadata": {
        "id": "6l_BZnx5ua-7",
        "colab": {
          "base_uri": "https://localhost:8080/",
          "height": 176
        },
        "outputId": "fba8e6b7-542b-4fd2-85ef-f1b1265a6167"
      },
      "outputs": [
        {
          "output_type": "stream",
          "name": "stdout",
          "text": [
            "Here are 5 dog meme ideas:\n",
            "\n",
            "1. **\"Me trying to explain to my dog why he can't have the whole pizza\"** -  Image: A dog looking intensely at a pizza with a pleading expression. \n",
            "2. **\"When you're trying to be a good boy but your tail wags too hard\"** - Image: A dog with a wagging tail that's so enthusiastic it's knocking things over.\n",
            "3. **\"Me trying to figure out what my dog wants\"** - Image: A dog staring intently at something off-screen, with a caption like \"Is it food? Is it a walk? Is it a belly rub? I'll never know.\"\n",
            "4. **\"My dog when I say 'treat' but don't actually have one\"** - Image: A dog with a disappointed expression, maybe even a slight pout.\n",
            "5. **\"When you're the only one who doesn't get the joke but you're just happy to be included\"** - Image: A dog looking confused but still wagging its tail, maybe with a caption like \"I don't get it, but I'm here for the belly rubs!\" \n",
            "\n"
          ]
        }
      ],
      "source": [
        "prompt = \"Give me 5 dog meme ideas:\"\n",
        "\n",
        "response = model.generate_content(prompt)\n",
        "print(response.text)"
      ]
    },
    {
      "cell_type": "markdown",
      "metadata": {
        "id": "q9lnIlmWua-8"
      },
      "source": [
        "### Interview question generation\n",
        "\n",
        "Whether you are the interviewer or interviewee, having some sample interview questions you can work with can be very helpful in job interviews. Below we use the Gemini API to help us generate some potential interview questions for a particular role."
      ]
    },
    {
      "cell_type": "code",
      "execution_count": null,
      "metadata": {
        "id": "xGrZMUt5ua-8",
        "outputId": "af61c607-d624-4b9e-d44c-4179961f25ba"
      },
      "outputs": [
        {
          "name": "stdout",
          "output_type": "stream",
          "text": [
            "## Ten Interview Questions for a Prompt Engineer:\n",
            "\n",
            "**Technical Skills:**\n",
            "\n",
            "1. **Describe your process for crafting effective prompts. What factors do you consider, and what tools do you use?** (This assesses their understanding of prompt engineering principles and their practical approach.)\n",
            "2. **Explain the difference between \"few-shot\" and \"zero-shot\" learning in the context of prompt engineering. How do you approach each scenario differently?** (This tests their knowledge of different prompt engineering techniques and their ability to adapt to various situations.)\n",
            "3. **How would you approach debugging a prompt that is not generating the desired output? What strategies would you use to identify and fix the issue?** (This assesses their problem-solving skills and their ability to troubleshoot complex issues.)\n",
            "\n",
            "**Creative Thinking & Problem Solving:**\n",
            "\n",
            "4. **Imagine you are tasked with generating creative marketing copy for a new product. How would you use prompt engineering to achieve this goal?** (This tests their ability to apply prompt engineering to real-world scenarios and their creative thinking.)\n",
            "5. **Describe a time when you had to overcome a challenging prompt engineering problem. What was the problem, and how did you solve it?** (This assesses their experience and their ability to handle difficult situations.)\n",
            "\n",
            "**Communication & Collaboration:**\n",
            "\n",
            "6. **How do you communicate your prompt engineering work to stakeholders who may not be familiar with the technical details?** (This assesses their ability to explain complex concepts in a clear and concise manner.)\n",
            "7. **How do you collaborate with other team members, such as data scientists and product managers, during the prompt engineering process?** (This assesses their ability to work effectively in a team environment.)\n",
            "\n",
            "**Industry Knowledge & Future Trends:**\n",
            "\n",
            "8. **What are some of the emerging trends in prompt engineering that you are excited about?** (This assesses their awareness of the latest developments in the field and their ability to stay ahead of the curve.)\n",
            "9. **How do you see the role of prompt engineering evolving in the future?** (This assesses their understanding of the broader impact of prompt engineering and their ability to anticipate future trends.)\n",
            "\n",
            "**Personal Qualities:**\n",
            "\n",
            "10. **What motivates you to work in the field of prompt engineering?** (This assesses their passion for the field and their long-term goals.) \n",
            "\n"
          ]
        }
      ],
      "source": [
        "prompt = \"Give me ten interview questions for the role of prompt engineer.\"\n",
        "\n",
        "response = model.generate_content(prompt)\n",
        "print(response.text)"
      ]
    },
    {
      "cell_type": "markdown",
      "metadata": {
        "id": "d1nSLoW7ua-8"
      },
      "source": [
        "### Name generation\n",
        "\n",
        "Name generation is useful in a variety of scenarios, such as creating new characters for a story or naming a new product or company. You can generate ideas for names of a specified entity using the Gemini API."
      ]
    },
    {
      "cell_type": "code",
      "execution_count": null,
      "metadata": {
        "id": "qLnUrgs8ua-8",
        "outputId": "41939004-fd6e-4ab3-84e0-97ef1fa81b06"
      },
      "outputs": [
        {
          "name": "stdout",
          "output_type": "stream",
          "text": [
            "Here are some names for a flower shop specializing in dried flowers, playing on different themes:\n",
            "\n",
            "**Classic & Elegant:**\n",
            "\n",
            "* The Dried Bloom\n",
            "* Everlasting Blooms\n",
            "* Bloom & Preserve\n",
            "* The Dried Garden\n",
            "* The Petal Press\n",
            "* Timeless Blooms\n",
            "* The Botanical Archive\n",
            "\n",
            "**Whimsical & Romantic:**\n",
            "\n",
            "* Whispers of Wildflowers\n",
            "* The Dusty Bouquet\n",
            "* Dried & Delightful\n",
            "* The Paper Petal\n",
            "* Forever in Bloom\n",
            "* The Sun-Kissed Bloom\n",
            "* The Dried Flower Co.\n",
            "\n",
            "**Modern & Minimalist:**\n",
            "\n",
            "* Bloom & Co.\n",
            "* The Dried Florist\n",
            "* The Bloom Bar\n",
            "* The Botanical Studio\n",
            "* The Dried Bouquet\n",
            "* The Flower Press\n",
            "* The Bloom Collective\n",
            "\n",
            "**Unique & Playful:**\n",
            "\n",
            "* The Flower Whisperer\n",
            "* The Dried Flower Apothecary\n",
            "* The Bloom Alchemist\n",
            "* The Petal Pantry\n",
            "* The Flower Fairy\n",
            "* The Dried Flower Muse\n",
            "* The Bloom & Beyond\n",
            "\n",
            "**Tips for Choosing a Name:**\n",
            "\n",
            "* **Keep it short and memorable.**\n",
            "* **Reflect your brand personality.**\n",
            "* **Make sure it's easy to pronounce and spell.**\n",
            "* **Check for availability of the name and domain name.**\n",
            "* **Get feedback from friends and family.**\n",
            "\n",
            "Ultimately, the best name for your flower shop is one that you love and that resonates with your target audience. Good luck! \n",
            "\n"
          ]
        }
      ],
      "source": [
        "prompt = \"What's a good name for a flower shop that specializes in selling bouquets of dried flowers?\"\n",
        "\n",
        "response = model.generate_content(prompt)\n",
        "print(response.text)"
      ]
    },
    {
      "cell_type": "markdown",
      "metadata": {
        "id": "M5Ca5Btvua-8"
      },
      "source": [
        "### General tips and advice\n",
        "\n",
        "Below is an example of using the Gemini API to get tips and advice on general topics."
      ]
    },
    {
      "cell_type": "code",
      "execution_count": null,
      "metadata": {
        "id": "aFy4ix6Cua-9",
        "outputId": "08cd9fd5-8e61-4808-bd13-c4b845c73c86"
      },
      "outputs": [
        {
          "name": "stdout",
          "output_type": "stream",
          "text": [
            "Writer's block can be a frustrating experience, but there are many strategies you can use to overcome it. Here are some ideas, categorized for different approaches:\n",
            "\n",
            "**1. Shift Your Mindset:**\n",
            "\n",
            "* **Embrace the blank page:** Don't fight it. Accept that sometimes, nothing comes easily. \n",
            "* **Reframe your expectations:**  Don't expect perfection. Just focus on getting words down, even if they're messy.\n",
            "* **Practice mindfulness:**  Take a break, clear your head, and come back to your writing with a fresh perspective.\n",
            "* **Challenge negative thoughts:**  Identify and challenge any self-defeating thoughts you might have about your writing.\n",
            "\n",
            "**2. Spark Your Creativity:**\n",
            "\n",
            "* **Freewriting:** Write non-stop for a set amount of time, without worrying about grammar or structure.\n",
            "* **Brainstorming:**  Generate ideas by listing words, phrases, or concepts related to your topic.\n",
            "* **Mind mapping:**  Visually connect ideas and explore different directions your writing could take.\n",
            "* **Prompt writing:**  Use writing prompts to jumpstart your creativity and get your imagination flowing.\n",
            "* **Read widely:**  Expose yourself to different styles and genres to inspire new ideas.\n",
            "* **Engage with other writers:**  Join writing groups, attend workshops, or connect with other writers online.\n",
            "\n",
            "**3. Change Your Routine:**\n",
            "\n",
            "* **Write in a different location:**  A change of scenery can stimulate your creativity.\n",
            "* **Write at a different time of day:**  Experiment with writing during times when you feel most energized.\n",
            "* **Try a different writing format:**  Switch from prose to poetry, or from fiction to non-fiction.\n",
            "* **Take a break from writing:**  Engage in activities that you enjoy and that help you relax.\n",
            "\n",
            "**4. Focus on the Process:**\n",
            "\n",
            "* **Break down your project:**  Divide your writing into smaller, more manageable tasks.\n",
            "* **Set realistic goals:**  Don't expect to write a masterpiece overnight. Focus on making progress, even if it's just a few sentences.\n",
            "* **Celebrate your successes:**  Acknowledge your accomplishments, no matter how small they may seem.\n",
            "* **Be patient with yourself:**  Writing takes time and effort. Don't get discouraged if you don't see results immediately.\n",
            "\n",
            "**5. Seek Professional Help:**\n",
            "\n",
            "* **Consult a therapist:**  If your writer's block is related to anxiety, depression, or other mental health issues, a therapist can provide support and guidance.\n",
            "* **Work with a writing coach:**  A writing coach can help you identify your strengths and weaknesses and develop strategies for overcoming your block.\n",
            "\n",
            "Remember, writer's block is a common experience, and it's something that can be overcome. By trying different strategies and being patient with yourself, you can get back on track and start writing again. \n",
            "\n"
          ]
        }
      ],
      "source": [
        "prompt = \"What are some strategies for overcoming writer's block?\"\n",
        "\n",
        "response = model.generate_content(prompt)\n",
        "print(response.text)"
      ]
    }
  ],
  "metadata": {
    "colab": {
      "toc_visible": true,
      "provenance": []
    },
    "environment": {
      "kernel": "python3",
      "name": "tf2-cpu.2-11.m113",
      "type": "gcloud",
      "uri": "gcr.io/deeplearning-platform-release/tf2-cpu.2-11:m113"
    },
    "kernelspec": {
      "display_name": "Python 3",
      "language": "python",
      "name": "python3"
    },
    "language_info": {
      "codemirror_mode": {
        "name": "ipython",
        "version": 3
      },
      "file_extension": ".py",
      "mimetype": "text/x-python",
      "name": "python",
      "nbconvert_exporter": "python",
      "pygments_lexer": "ipython3",
      "version": "3.11.6"
    }
  },
  "nbformat": 4,
  "nbformat_minor": 0
}